{
  "nbformat": 4,
  "nbformat_minor": 0,
  "metadata": {
    "colab": {
      "provenance": [],
      "collapsed_sections": [
        "7JMORDIXv0QG",
        "6xNlth-3ejFT",
        "XmbnkRJROOC_",
        "sxL4LhYgOuNy",
        "Q8Xed1YOdx5Q",
        "UEnodMqZlQEE",
        "_wRjv8JwlStL",
        "3WtsmDLxadFH",
        "XuIkxHioamtd",
        "7A7SObd5vttw",
        "wL9ao7OnePxW",
        "4-8_Mystez7I",
        "cUP1OyFsfB4P",
        "QPkA0vXIxC_p",
        "vKuYm8WFwc31",
        "EODVhaTNmGcj",
        "VPdeyCgJ06xC",
        "7_LLbxPwfIAs",
        "IQLny-Dr9yZA",
        "4vM1GQhH-VX7",
        "87uCCGRHASuG",
        "EIHpMYvLz3Ix",
        "kJmnnOVL01Au",
        "XNkt6PBL1ArN",
        "IMvB3hbM1F5v"
      ]
    },
    "kernelspec": {
      "name": "python3",
      "display_name": "Python 3"
    },
    "language_info": {
      "name": "python"
    }
  },
  "cells": [
    {
      "cell_type": "markdown",
      "source": [
        "![picture](https://raw.githubusercontent.com/CVilaNet/PCDAyac/main/imgintro.JPG)"
      ],
      "metadata": {
        "id": "8zTo_T1wwPep"
      }
    },
    {
      "cell_type": "markdown",
      "source": [
        "## 0. Carga de Datos y Depuración\n",
        "Realizamos la carga de los datos a partir de multiples archivos xlsx origen, que si bien tienen la misma estructura, los datos presentan formatos que deben ser afiados."
      ],
      "metadata": {
        "id": "7JMORDIXv0QG"
      }
    },
    {
      "cell_type": "markdown",
      "source": [
        "### Carga de Datos\n",
        "A partir del repositorio Git en el cual se encuentran todos los archivos xlsx origen."
      ],
      "metadata": {
        "id": "6xNlth-3ejFT"
      }
    },
    {
      "cell_type": "code",
      "source": [
        "import pandas as pd\n",
        "\n",
        "path = 'https://github.com/CVilaNet/PCDAyac/raw/main/Data/'\n",
        "ExcelFiles = 91\n",
        "ExcelPrefi = '00'\n",
        "dataAll = pd.DataFrame \n",
        "\n",
        "for i in range(ExcelFiles):\n",
        "  if(i+1 > 99): ExcelPrefi = ''\n",
        "  elif(i+1 > 9): ExcelPrefi = '0'\n",
        "\n",
        "  #dataFile = pd.read_excel(ExcelPrefi + str(i+1) + '.xlsx')\n",
        "  dataFile = pd.read_excel(path + ExcelPrefi + str(i+1) + '.xlsx')\n",
        "\n",
        "  if i==0: dataAll = dataFile.copy()\n",
        "  else: dataAll = pd.concat([dataAll, dataFile])\n",
        "\n",
        "print('Nro. Registros: ' + str(len(dataAll)))"
      ],
      "metadata": {
        "colab": {
          "base_uri": "https://localhost:8080/"
        },
        "id": "dG7Ei-qQTQHQ",
        "outputId": "752a41bc-9b10-4c7d-8b27-0fe208b67e8c"
      },
      "execution_count": 1,
      "outputs": [
        {
          "output_type": "stream",
          "name": "stdout",
          "text": [
            "Nro. Registros: 8779\n"
          ]
        }
      ]
    },
    {
      "cell_type": "code",
      "source": [
        "dataAll.shape"
      ],
      "metadata": {
        "colab": {
          "base_uri": "https://localhost:8080/"
        },
        "id": "1H5Lt1lzQsY0",
        "outputId": "0ed59f39-08ad-4f14-a3f1-10f5dded7a31"
      },
      "execution_count": 2,
      "outputs": [
        {
          "output_type": "execute_result",
          "data": {
            "text/plain": [
              "(8779, 44)"
            ]
          },
          "metadata": {},
          "execution_count": 2
        }
      ]
    },
    {
      "cell_type": "markdown",
      "source": [
        "### Procesando la **Fecha de Nacimiento**\n",
        "Se puede notar que se tienen nombres de columnas con diferentes denominaciones, acarreado desde los archivos origen de datos, lo cual es neceario estandarizar y rescatar los valores en una única columna."
      ],
      "metadata": {
        "id": "XmbnkRJROOC_"
      }
    },
    {
      "cell_type": "code",
      "source": [
        "# Procesando la fecha de nacimiento (dia - mes - año)\n",
        "dataAll[''] = pd.to_numeric(dataAll['NAC-DIA'])\n",
        "dataAll[''] = pd.to_numeric(dataAll['NAC-DIA'])\n",
        "dataAll['NAC-AÑO'] = pd.to_numeric(dataAll['NAC-DIA'])\n",
        "\n",
        "dataAll['NACDIA'].fillna(0, inplace=True)\n",
        "dataAll['NACMES'].fillna(0, inplace=True)\n",
        "dataAll['NACANIO'].fillna(0, inplace=True)\n",
        "dataAll['NAC-DIA'].fillna(0, inplace=True)\n",
        "dataAll['NAC-MES'].fillna(0, inplace=True)\n",
        "dataAll['NAC-AÑO'].fillna(0, inplace=True)\n",
        "\n",
        "dataAll['NACDIA'] = dataAll['NACDIA'] + dataAll['NAC-DIA']\n",
        "dataAll['NACMES'] = dataAll['NACMES'] + dataAll['NAC-MES']\n",
        "dataAll['NACANIO'] = dataAll['NACANIO'] + dataAll['NAC-AÑO']\n",
        "\n",
        "dataAll.drop(['N°', 'NAC-DIA', 'NAC-MES', 'NAC-AÑO'], inplace=True, axis=1)\n",
        "\n",
        "dataAll['NACDIA'] = dataAll['NACDIA'].astype(int)\n",
        "dataAll['NACMES'] = dataAll['NACMES'].astype(int)\n",
        "dataAll['NACANIO'] = dataAll['NACANIO'].astype(int)\n",
        "\n",
        "#dataAll.head()"
      ],
      "metadata": {
        "id": "WPITcsropFKw"
      },
      "execution_count": 3,
      "outputs": []
    },
    {
      "cell_type": "markdown",
      "source": [
        "### Realizando el **Cálculo de la Edad**\n",
        "1.   Realizamos el cálculo de la edad de las PCDs\n",
        "2.   Eliminando Indices duplicados\n",
        "3.   Depuramos las edades que no sea razonables\n",
        "\n",
        "\n"
      ],
      "metadata": {
        "id": "sxL4LhYgOuNy"
      }
    },
    {
      "cell_type": "code",
      "source": [
        "# 1. Calculando la edad de la Personas con Discapacidad - PCDs\n",
        "from datetime import datetime as dt\n",
        "\n",
        "currentYear = dt.now().year\n",
        "dataAll['EDAD'] = currentYear - dataAll['NACANIO']"
      ],
      "metadata": {
        "id": "7lAW5IeKOJFC"
      },
      "execution_count": 4,
      "outputs": []
    },
    {
      "cell_type": "code",
      "source": [
        "# 2.   Eliminando Indices duplicados\n",
        "dataAll.iloc[97:102]"
      ],
      "metadata": {
        "colab": {
          "base_uri": "https://localhost:8080/",
          "height": 456
        },
        "id": "gTTfM4yGYhTe",
        "outputId": "804861e7-87a4-44c1-97cf-7eb3d77802d7"
      },
      "execution_count": 5,
      "outputs": [
        {
          "output_type": "execute_result",
          "data": {
            "text/plain": [
              "        N° DNI APEPATERNO  APEMATRNO             NOMBRES SEXO  NACDIA  NACMES  \\\n",
              "19  28813807.0     BORDA    CABEZAS              EUGENIA    F      15      11   \n",
              "20  28813932.0   SALCEDO    CABEZAS    FRANCISCO EUSEBIO    M       4      10   \n",
              "0   63412331.0  GUTIERREZ     VARGAS         Frank Crish    M       9      10   \n",
              "1   71727905.0    RAMIREZ     HUAMAN    Cleber Yenderson    M      18       5   \n",
              "2   76917177.0     GAMBOA    BARBOZA           ROSALINDA    F      26       4   \n",
              "\n",
              "    NACANIO NIVEL DE INSTRUCCIÓN (Inicial, primaria, secundaria, superior)  \\\n",
              "19     1958                                            NINGUNO               \n",
              "20     1969                                            NINGUNO               \n",
              "0      2012                                                NaN               \n",
              "1      2003                                                NaN               \n",
              "2      2005                                                NaN               \n",
              "\n",
              "   NIVEL SOCIOECONÓMICO  SISFHO  ... DISTRITO/DOMICILIO  \\\n",
              "19                        POBRE  ...                NaN   \n",
              "20                POBRE EXTREMO  ...                NaN   \n",
              "0                 POBRE EXTREMO  ...                NaN   \n",
              "1                 POBRE EXTREMO  ...                NaN   \n",
              "2                 POBRE EXTREMO  ...                NaN   \n",
              "\n",
              "   ANEXO/CENTRO POBLADO \\n(DOMICILIO) CELULAR DE  LA PCD  \\\n",
              "19                                NaN                NaN   \n",
              "20                                NaN                NaN   \n",
              "0                                 NaN                NaN   \n",
              "1                                 NaN                NaN   \n",
              "2                                 NaN                NaN   \n",
              "\n",
              "   DIACADUCIDAD CERTIFICADO MESCADUCIDAD CERTIFICADO ANIOCADUCIDAD  \\\n",
              "19                      NaN                      NaN           NaN   \n",
              "20                      NaN                      NaN           NaN   \n",
              "0                       NaN                      NaN           NaN   \n",
              "1                       NaN                      NaN           NaN   \n",
              "2                       NaN                      NaN           NaN   \n",
              "\n",
              "   ¿ CUENTA CON \\nCARNE  CONADIS? Unnamed: 24     EDAD  \n",
              "19                            NaN         NaN NaN   65  \n",
              "20                            NaN         NaN NaN   54  \n",
              "0                             NaN         NaN NaN   11  \n",
              "1                             NaN         NaN NaN   20  \n",
              "2                             NaN         NaN NaN   18  \n",
              "\n",
              "[5 rows x 42 columns]"
            ],
            "text/html": [
              "\n",
              "  <div id=\"df-1752d379-c1fd-4c5b-833f-503290de2d0d\">\n",
              "    <div class=\"colab-df-container\">\n",
              "      <div>\n",
              "<style scoped>\n",
              "    .dataframe tbody tr th:only-of-type {\n",
              "        vertical-align: middle;\n",
              "    }\n",
              "\n",
              "    .dataframe tbody tr th {\n",
              "        vertical-align: top;\n",
              "    }\n",
              "\n",
              "    .dataframe thead th {\n",
              "        text-align: right;\n",
              "    }\n",
              "</style>\n",
              "<table border=\"1\" class=\"dataframe\">\n",
              "  <thead>\n",
              "    <tr style=\"text-align: right;\">\n",
              "      <th></th>\n",
              "      <th>N° DNI</th>\n",
              "      <th>APEPATERNO</th>\n",
              "      <th>APEMATRNO</th>\n",
              "      <th>NOMBRES</th>\n",
              "      <th>SEXO</th>\n",
              "      <th>NACDIA</th>\n",
              "      <th>NACMES</th>\n",
              "      <th>NACANIO</th>\n",
              "      <th>NIVEL DE INSTRUCCIÓN (Inicial, primaria, secundaria, superior)</th>\n",
              "      <th>NIVEL SOCIOECONÓMICO  SISFHO</th>\n",
              "      <th>...</th>\n",
              "      <th>DISTRITO/DOMICILIO</th>\n",
              "      <th>ANEXO/CENTRO POBLADO \\n(DOMICILIO)</th>\n",
              "      <th>CELULAR DE  LA PCD</th>\n",
              "      <th>DIACADUCIDAD CERTIFICADO</th>\n",
              "      <th>MESCADUCIDAD CERTIFICADO</th>\n",
              "      <th>ANIOCADUCIDAD</th>\n",
              "      <th>¿ CUENTA CON \\nCARNE  CONADIS?</th>\n",
              "      <th>Unnamed: 24</th>\n",
              "      <th></th>\n",
              "      <th>EDAD</th>\n",
              "    </tr>\n",
              "  </thead>\n",
              "  <tbody>\n",
              "    <tr>\n",
              "      <th>19</th>\n",
              "      <td>28813807.0</td>\n",
              "      <td>BORDA</td>\n",
              "      <td>CABEZAS</td>\n",
              "      <td>EUGENIA</td>\n",
              "      <td>F</td>\n",
              "      <td>15</td>\n",
              "      <td>11</td>\n",
              "      <td>1958</td>\n",
              "      <td>NINGUNO</td>\n",
              "      <td>POBRE</td>\n",
              "      <td>...</td>\n",
              "      <td>NaN</td>\n",
              "      <td>NaN</td>\n",
              "      <td>NaN</td>\n",
              "      <td>NaN</td>\n",
              "      <td>NaN</td>\n",
              "      <td>NaN</td>\n",
              "      <td>NaN</td>\n",
              "      <td>NaN</td>\n",
              "      <td>NaN</td>\n",
              "      <td>65</td>\n",
              "    </tr>\n",
              "    <tr>\n",
              "      <th>20</th>\n",
              "      <td>28813932.0</td>\n",
              "      <td>SALCEDO</td>\n",
              "      <td>CABEZAS</td>\n",
              "      <td>FRANCISCO EUSEBIO</td>\n",
              "      <td>M</td>\n",
              "      <td>4</td>\n",
              "      <td>10</td>\n",
              "      <td>1969</td>\n",
              "      <td>NINGUNO</td>\n",
              "      <td>POBRE EXTREMO</td>\n",
              "      <td>...</td>\n",
              "      <td>NaN</td>\n",
              "      <td>NaN</td>\n",
              "      <td>NaN</td>\n",
              "      <td>NaN</td>\n",
              "      <td>NaN</td>\n",
              "      <td>NaN</td>\n",
              "      <td>NaN</td>\n",
              "      <td>NaN</td>\n",
              "      <td>NaN</td>\n",
              "      <td>54</td>\n",
              "    </tr>\n",
              "    <tr>\n",
              "      <th>0</th>\n",
              "      <td>63412331.0</td>\n",
              "      <td>GUTIERREZ</td>\n",
              "      <td>VARGAS</td>\n",
              "      <td>Frank Crish</td>\n",
              "      <td>M</td>\n",
              "      <td>9</td>\n",
              "      <td>10</td>\n",
              "      <td>2012</td>\n",
              "      <td>NaN</td>\n",
              "      <td>POBRE EXTREMO</td>\n",
              "      <td>...</td>\n",
              "      <td>NaN</td>\n",
              "      <td>NaN</td>\n",
              "      <td>NaN</td>\n",
              "      <td>NaN</td>\n",
              "      <td>NaN</td>\n",
              "      <td>NaN</td>\n",
              "      <td>NaN</td>\n",
              "      <td>NaN</td>\n",
              "      <td>NaN</td>\n",
              "      <td>11</td>\n",
              "    </tr>\n",
              "    <tr>\n",
              "      <th>1</th>\n",
              "      <td>71727905.0</td>\n",
              "      <td>RAMIREZ</td>\n",
              "      <td>HUAMAN</td>\n",
              "      <td>Cleber Yenderson</td>\n",
              "      <td>M</td>\n",
              "      <td>18</td>\n",
              "      <td>5</td>\n",
              "      <td>2003</td>\n",
              "      <td>NaN</td>\n",
              "      <td>POBRE EXTREMO</td>\n",
              "      <td>...</td>\n",
              "      <td>NaN</td>\n",
              "      <td>NaN</td>\n",
              "      <td>NaN</td>\n",
              "      <td>NaN</td>\n",
              "      <td>NaN</td>\n",
              "      <td>NaN</td>\n",
              "      <td>NaN</td>\n",
              "      <td>NaN</td>\n",
              "      <td>NaN</td>\n",
              "      <td>20</td>\n",
              "    </tr>\n",
              "    <tr>\n",
              "      <th>2</th>\n",
              "      <td>76917177.0</td>\n",
              "      <td>GAMBOA</td>\n",
              "      <td>BARBOZA</td>\n",
              "      <td>ROSALINDA</td>\n",
              "      <td>F</td>\n",
              "      <td>26</td>\n",
              "      <td>4</td>\n",
              "      <td>2005</td>\n",
              "      <td>NaN</td>\n",
              "      <td>POBRE EXTREMO</td>\n",
              "      <td>...</td>\n",
              "      <td>NaN</td>\n",
              "      <td>NaN</td>\n",
              "      <td>NaN</td>\n",
              "      <td>NaN</td>\n",
              "      <td>NaN</td>\n",
              "      <td>NaN</td>\n",
              "      <td>NaN</td>\n",
              "      <td>NaN</td>\n",
              "      <td>NaN</td>\n",
              "      <td>18</td>\n",
              "    </tr>\n",
              "  </tbody>\n",
              "</table>\n",
              "<p>5 rows × 42 columns</p>\n",
              "</div>\n",
              "      <button class=\"colab-df-convert\" onclick=\"convertToInteractive('df-1752d379-c1fd-4c5b-833f-503290de2d0d')\"\n",
              "              title=\"Convert this dataframe to an interactive table.\"\n",
              "              style=\"display:none;\">\n",
              "        \n",
              "  <svg xmlns=\"http://www.w3.org/2000/svg\" height=\"24px\"viewBox=\"0 0 24 24\"\n",
              "       width=\"24px\">\n",
              "    <path d=\"M0 0h24v24H0V0z\" fill=\"none\"/>\n",
              "    <path d=\"M18.56 5.44l.94 2.06.94-2.06 2.06-.94-2.06-.94-.94-2.06-.94 2.06-2.06.94zm-11 1L8.5 8.5l.94-2.06 2.06-.94-2.06-.94L8.5 2.5l-.94 2.06-2.06.94zm10 10l.94 2.06.94-2.06 2.06-.94-2.06-.94-.94-2.06-.94 2.06-2.06.94z\"/><path d=\"M17.41 7.96l-1.37-1.37c-.4-.4-.92-.59-1.43-.59-.52 0-1.04.2-1.43.59L10.3 9.45l-7.72 7.72c-.78.78-.78 2.05 0 2.83L4 21.41c.39.39.9.59 1.41.59.51 0 1.02-.2 1.41-.59l7.78-7.78 2.81-2.81c.8-.78.8-2.07 0-2.86zM5.41 20L4 18.59l7.72-7.72 1.47 1.35L5.41 20z\"/>\n",
              "  </svg>\n",
              "      </button>\n",
              "      \n",
              "  <style>\n",
              "    .colab-df-container {\n",
              "      display:flex;\n",
              "      flex-wrap:wrap;\n",
              "      gap: 12px;\n",
              "    }\n",
              "\n",
              "    .colab-df-convert {\n",
              "      background-color: #E8F0FE;\n",
              "      border: none;\n",
              "      border-radius: 50%;\n",
              "      cursor: pointer;\n",
              "      display: none;\n",
              "      fill: #1967D2;\n",
              "      height: 32px;\n",
              "      padding: 0 0 0 0;\n",
              "      width: 32px;\n",
              "    }\n",
              "\n",
              "    .colab-df-convert:hover {\n",
              "      background-color: #E2EBFA;\n",
              "      box-shadow: 0px 1px 2px rgba(60, 64, 67, 0.3), 0px 1px 3px 1px rgba(60, 64, 67, 0.15);\n",
              "      fill: #174EA6;\n",
              "    }\n",
              "\n",
              "    [theme=dark] .colab-df-convert {\n",
              "      background-color: #3B4455;\n",
              "      fill: #D2E3FC;\n",
              "    }\n",
              "\n",
              "    [theme=dark] .colab-df-convert:hover {\n",
              "      background-color: #434B5C;\n",
              "      box-shadow: 0px 1px 3px 1px rgba(0, 0, 0, 0.15);\n",
              "      filter: drop-shadow(0px 1px 2px rgba(0, 0, 0, 0.3));\n",
              "      fill: #FFFFFF;\n",
              "    }\n",
              "  </style>\n",
              "\n",
              "      <script>\n",
              "        const buttonEl =\n",
              "          document.querySelector('#df-1752d379-c1fd-4c5b-833f-503290de2d0d button.colab-df-convert');\n",
              "        buttonEl.style.display =\n",
              "          google.colab.kernel.accessAllowed ? 'block' : 'none';\n",
              "\n",
              "        async function convertToInteractive(key) {\n",
              "          const element = document.querySelector('#df-1752d379-c1fd-4c5b-833f-503290de2d0d');\n",
              "          const dataTable =\n",
              "            await google.colab.kernel.invokeFunction('convertToInteractive',\n",
              "                                                     [key], {});\n",
              "          if (!dataTable) return;\n",
              "\n",
              "          const docLinkHtml = 'Like what you see? Visit the ' +\n",
              "            '<a target=\"_blank\" href=https://colab.research.google.com/notebooks/data_table.ipynb>data table notebook</a>'\n",
              "            + ' to learn more about interactive tables.';\n",
              "          element.innerHTML = '';\n",
              "          dataTable['output_type'] = 'display_data';\n",
              "          await google.colab.output.renderOutput(dataTable, element);\n",
              "          const docLink = document.createElement('div');\n",
              "          docLink.innerHTML = docLinkHtml;\n",
              "          element.appendChild(docLink);\n",
              "        }\n",
              "      </script>\n",
              "    </div>\n",
              "  </div>\n",
              "  "
            ]
          },
          "metadata": {},
          "execution_count": 5
        }
      ]
    },
    {
      "cell_type": "code",
      "source": [
        "dataAll.reset_index(drop=True, inplace=True)\n",
        "dataAll.iloc[97:102]"
      ],
      "metadata": {
        "colab": {
          "base_uri": "https://localhost:8080/",
          "height": 456
        },
        "id": "2gbBbIgHYybk",
        "outputId": "bafcbd9e-5e5d-43fc-ea42-547f425f24b6"
      },
      "execution_count": 6,
      "outputs": [
        {
          "output_type": "execute_result",
          "data": {
            "text/plain": [
              "         N° DNI APEPATERNO  APEMATRNO             NOMBRES SEXO  NACDIA  \\\n",
              "97   28813807.0     BORDA    CABEZAS              EUGENIA    F      15   \n",
              "98   28813932.0   SALCEDO    CABEZAS    FRANCISCO EUSEBIO    M       4   \n",
              "99   63412331.0  GUTIERREZ     VARGAS         Frank Crish    M       9   \n",
              "100  71727905.0    RAMIREZ     HUAMAN    Cleber Yenderson    M      18   \n",
              "101  76917177.0     GAMBOA    BARBOZA           ROSALINDA    F      26   \n",
              "\n",
              "     NACMES  NACANIO  \\\n",
              "97       11     1958   \n",
              "98       10     1969   \n",
              "99       10     2012   \n",
              "100       5     2003   \n",
              "101       4     2005   \n",
              "\n",
              "    NIVEL DE INSTRUCCIÓN (Inicial, primaria, secundaria, superior)  \\\n",
              "97                                             NINGUNO               \n",
              "98                                             NINGUNO               \n",
              "99                                                 NaN               \n",
              "100                                                NaN               \n",
              "101                                                NaN               \n",
              "\n",
              "    NIVEL SOCIOECONÓMICO  SISFHO  ... DISTRITO/DOMICILIO  \\\n",
              "97                         POBRE  ...                NaN   \n",
              "98                 POBRE EXTREMO  ...                NaN   \n",
              "99                 POBRE EXTREMO  ...                NaN   \n",
              "100                POBRE EXTREMO  ...                NaN   \n",
              "101                POBRE EXTREMO  ...                NaN   \n",
              "\n",
              "    ANEXO/CENTRO POBLADO \\n(DOMICILIO) CELULAR DE  LA PCD  \\\n",
              "97                                 NaN                NaN   \n",
              "98                                 NaN                NaN   \n",
              "99                                 NaN                NaN   \n",
              "100                                NaN                NaN   \n",
              "101                                NaN                NaN   \n",
              "\n",
              "    DIACADUCIDAD CERTIFICADO MESCADUCIDAD CERTIFICADO ANIOCADUCIDAD  \\\n",
              "97                       NaN                      NaN           NaN   \n",
              "98                       NaN                      NaN           NaN   \n",
              "99                       NaN                      NaN           NaN   \n",
              "100                      NaN                      NaN           NaN   \n",
              "101                      NaN                      NaN           NaN   \n",
              "\n",
              "    ¿ CUENTA CON \\nCARNE  CONADIS? Unnamed: 24     EDAD  \n",
              "97                             NaN         NaN NaN   65  \n",
              "98                             NaN         NaN NaN   54  \n",
              "99                             NaN         NaN NaN   11  \n",
              "100                            NaN         NaN NaN   20  \n",
              "101                            NaN         NaN NaN   18  \n",
              "\n",
              "[5 rows x 42 columns]"
            ],
            "text/html": [
              "\n",
              "  <div id=\"df-34067c93-b862-45d8-8ae0-075845fcf4bc\">\n",
              "    <div class=\"colab-df-container\">\n",
              "      <div>\n",
              "<style scoped>\n",
              "    .dataframe tbody tr th:only-of-type {\n",
              "        vertical-align: middle;\n",
              "    }\n",
              "\n",
              "    .dataframe tbody tr th {\n",
              "        vertical-align: top;\n",
              "    }\n",
              "\n",
              "    .dataframe thead th {\n",
              "        text-align: right;\n",
              "    }\n",
              "</style>\n",
              "<table border=\"1\" class=\"dataframe\">\n",
              "  <thead>\n",
              "    <tr style=\"text-align: right;\">\n",
              "      <th></th>\n",
              "      <th>N° DNI</th>\n",
              "      <th>APEPATERNO</th>\n",
              "      <th>APEMATRNO</th>\n",
              "      <th>NOMBRES</th>\n",
              "      <th>SEXO</th>\n",
              "      <th>NACDIA</th>\n",
              "      <th>NACMES</th>\n",
              "      <th>NACANIO</th>\n",
              "      <th>NIVEL DE INSTRUCCIÓN (Inicial, primaria, secundaria, superior)</th>\n",
              "      <th>NIVEL SOCIOECONÓMICO  SISFHO</th>\n",
              "      <th>...</th>\n",
              "      <th>DISTRITO/DOMICILIO</th>\n",
              "      <th>ANEXO/CENTRO POBLADO \\n(DOMICILIO)</th>\n",
              "      <th>CELULAR DE  LA PCD</th>\n",
              "      <th>DIACADUCIDAD CERTIFICADO</th>\n",
              "      <th>MESCADUCIDAD CERTIFICADO</th>\n",
              "      <th>ANIOCADUCIDAD</th>\n",
              "      <th>¿ CUENTA CON \\nCARNE  CONADIS?</th>\n",
              "      <th>Unnamed: 24</th>\n",
              "      <th></th>\n",
              "      <th>EDAD</th>\n",
              "    </tr>\n",
              "  </thead>\n",
              "  <tbody>\n",
              "    <tr>\n",
              "      <th>97</th>\n",
              "      <td>28813807.0</td>\n",
              "      <td>BORDA</td>\n",
              "      <td>CABEZAS</td>\n",
              "      <td>EUGENIA</td>\n",
              "      <td>F</td>\n",
              "      <td>15</td>\n",
              "      <td>11</td>\n",
              "      <td>1958</td>\n",
              "      <td>NINGUNO</td>\n",
              "      <td>POBRE</td>\n",
              "      <td>...</td>\n",
              "      <td>NaN</td>\n",
              "      <td>NaN</td>\n",
              "      <td>NaN</td>\n",
              "      <td>NaN</td>\n",
              "      <td>NaN</td>\n",
              "      <td>NaN</td>\n",
              "      <td>NaN</td>\n",
              "      <td>NaN</td>\n",
              "      <td>NaN</td>\n",
              "      <td>65</td>\n",
              "    </tr>\n",
              "    <tr>\n",
              "      <th>98</th>\n",
              "      <td>28813932.0</td>\n",
              "      <td>SALCEDO</td>\n",
              "      <td>CABEZAS</td>\n",
              "      <td>FRANCISCO EUSEBIO</td>\n",
              "      <td>M</td>\n",
              "      <td>4</td>\n",
              "      <td>10</td>\n",
              "      <td>1969</td>\n",
              "      <td>NINGUNO</td>\n",
              "      <td>POBRE EXTREMO</td>\n",
              "      <td>...</td>\n",
              "      <td>NaN</td>\n",
              "      <td>NaN</td>\n",
              "      <td>NaN</td>\n",
              "      <td>NaN</td>\n",
              "      <td>NaN</td>\n",
              "      <td>NaN</td>\n",
              "      <td>NaN</td>\n",
              "      <td>NaN</td>\n",
              "      <td>NaN</td>\n",
              "      <td>54</td>\n",
              "    </tr>\n",
              "    <tr>\n",
              "      <th>99</th>\n",
              "      <td>63412331.0</td>\n",
              "      <td>GUTIERREZ</td>\n",
              "      <td>VARGAS</td>\n",
              "      <td>Frank Crish</td>\n",
              "      <td>M</td>\n",
              "      <td>9</td>\n",
              "      <td>10</td>\n",
              "      <td>2012</td>\n",
              "      <td>NaN</td>\n",
              "      <td>POBRE EXTREMO</td>\n",
              "      <td>...</td>\n",
              "      <td>NaN</td>\n",
              "      <td>NaN</td>\n",
              "      <td>NaN</td>\n",
              "      <td>NaN</td>\n",
              "      <td>NaN</td>\n",
              "      <td>NaN</td>\n",
              "      <td>NaN</td>\n",
              "      <td>NaN</td>\n",
              "      <td>NaN</td>\n",
              "      <td>11</td>\n",
              "    </tr>\n",
              "    <tr>\n",
              "      <th>100</th>\n",
              "      <td>71727905.0</td>\n",
              "      <td>RAMIREZ</td>\n",
              "      <td>HUAMAN</td>\n",
              "      <td>Cleber Yenderson</td>\n",
              "      <td>M</td>\n",
              "      <td>18</td>\n",
              "      <td>5</td>\n",
              "      <td>2003</td>\n",
              "      <td>NaN</td>\n",
              "      <td>POBRE EXTREMO</td>\n",
              "      <td>...</td>\n",
              "      <td>NaN</td>\n",
              "      <td>NaN</td>\n",
              "      <td>NaN</td>\n",
              "      <td>NaN</td>\n",
              "      <td>NaN</td>\n",
              "      <td>NaN</td>\n",
              "      <td>NaN</td>\n",
              "      <td>NaN</td>\n",
              "      <td>NaN</td>\n",
              "      <td>20</td>\n",
              "    </tr>\n",
              "    <tr>\n",
              "      <th>101</th>\n",
              "      <td>76917177.0</td>\n",
              "      <td>GAMBOA</td>\n",
              "      <td>BARBOZA</td>\n",
              "      <td>ROSALINDA</td>\n",
              "      <td>F</td>\n",
              "      <td>26</td>\n",
              "      <td>4</td>\n",
              "      <td>2005</td>\n",
              "      <td>NaN</td>\n",
              "      <td>POBRE EXTREMO</td>\n",
              "      <td>...</td>\n",
              "      <td>NaN</td>\n",
              "      <td>NaN</td>\n",
              "      <td>NaN</td>\n",
              "      <td>NaN</td>\n",
              "      <td>NaN</td>\n",
              "      <td>NaN</td>\n",
              "      <td>NaN</td>\n",
              "      <td>NaN</td>\n",
              "      <td>NaN</td>\n",
              "      <td>18</td>\n",
              "    </tr>\n",
              "  </tbody>\n",
              "</table>\n",
              "<p>5 rows × 42 columns</p>\n",
              "</div>\n",
              "      <button class=\"colab-df-convert\" onclick=\"convertToInteractive('df-34067c93-b862-45d8-8ae0-075845fcf4bc')\"\n",
              "              title=\"Convert this dataframe to an interactive table.\"\n",
              "              style=\"display:none;\">\n",
              "        \n",
              "  <svg xmlns=\"http://www.w3.org/2000/svg\" height=\"24px\"viewBox=\"0 0 24 24\"\n",
              "       width=\"24px\">\n",
              "    <path d=\"M0 0h24v24H0V0z\" fill=\"none\"/>\n",
              "    <path d=\"M18.56 5.44l.94 2.06.94-2.06 2.06-.94-2.06-.94-.94-2.06-.94 2.06-2.06.94zm-11 1L8.5 8.5l.94-2.06 2.06-.94-2.06-.94L8.5 2.5l-.94 2.06-2.06.94zm10 10l.94 2.06.94-2.06 2.06-.94-2.06-.94-.94-2.06-.94 2.06-2.06.94z\"/><path d=\"M17.41 7.96l-1.37-1.37c-.4-.4-.92-.59-1.43-.59-.52 0-1.04.2-1.43.59L10.3 9.45l-7.72 7.72c-.78.78-.78 2.05 0 2.83L4 21.41c.39.39.9.59 1.41.59.51 0 1.02-.2 1.41-.59l7.78-7.78 2.81-2.81c.8-.78.8-2.07 0-2.86zM5.41 20L4 18.59l7.72-7.72 1.47 1.35L5.41 20z\"/>\n",
              "  </svg>\n",
              "      </button>\n",
              "      \n",
              "  <style>\n",
              "    .colab-df-container {\n",
              "      display:flex;\n",
              "      flex-wrap:wrap;\n",
              "      gap: 12px;\n",
              "    }\n",
              "\n",
              "    .colab-df-convert {\n",
              "      background-color: #E8F0FE;\n",
              "      border: none;\n",
              "      border-radius: 50%;\n",
              "      cursor: pointer;\n",
              "      display: none;\n",
              "      fill: #1967D2;\n",
              "      height: 32px;\n",
              "      padding: 0 0 0 0;\n",
              "      width: 32px;\n",
              "    }\n",
              "\n",
              "    .colab-df-convert:hover {\n",
              "      background-color: #E2EBFA;\n",
              "      box-shadow: 0px 1px 2px rgba(60, 64, 67, 0.3), 0px 1px 3px 1px rgba(60, 64, 67, 0.15);\n",
              "      fill: #174EA6;\n",
              "    }\n",
              "\n",
              "    [theme=dark] .colab-df-convert {\n",
              "      background-color: #3B4455;\n",
              "      fill: #D2E3FC;\n",
              "    }\n",
              "\n",
              "    [theme=dark] .colab-df-convert:hover {\n",
              "      background-color: #434B5C;\n",
              "      box-shadow: 0px 1px 3px 1px rgba(0, 0, 0, 0.15);\n",
              "      filter: drop-shadow(0px 1px 2px rgba(0, 0, 0, 0.3));\n",
              "      fill: #FFFFFF;\n",
              "    }\n",
              "  </style>\n",
              "\n",
              "      <script>\n",
              "        const buttonEl =\n",
              "          document.querySelector('#df-34067c93-b862-45d8-8ae0-075845fcf4bc button.colab-df-convert');\n",
              "        buttonEl.style.display =\n",
              "          google.colab.kernel.accessAllowed ? 'block' : 'none';\n",
              "\n",
              "        async function convertToInteractive(key) {\n",
              "          const element = document.querySelector('#df-34067c93-b862-45d8-8ae0-075845fcf4bc');\n",
              "          const dataTable =\n",
              "            await google.colab.kernel.invokeFunction('convertToInteractive',\n",
              "                                                     [key], {});\n",
              "          if (!dataTable) return;\n",
              "\n",
              "          const docLinkHtml = 'Like what you see? Visit the ' +\n",
              "            '<a target=\"_blank\" href=https://colab.research.google.com/notebooks/data_table.ipynb>data table notebook</a>'\n",
              "            + ' to learn more about interactive tables.';\n",
              "          element.innerHTML = '';\n",
              "          dataTable['output_type'] = 'display_data';\n",
              "          await google.colab.output.renderOutput(dataTable, element);\n",
              "          const docLink = document.createElement('div');\n",
              "          docLink.innerHTML = docLinkHtml;\n",
              "          element.appendChild(docLink);\n",
              "        }\n",
              "      </script>\n",
              "    </div>\n",
              "  </div>\n",
              "  "
            ]
          },
          "metadata": {},
          "execution_count": 6
        }
      ]
    },
    {
      "cell_type": "code",
      "source": [
        "# 3. Eliminando los registros cuyas edades no son razonables\n",
        "condicionEdad = \"(NACANIO < 1922)\"\n",
        "\n",
        "indexEdad = dataAll.query(condicionEdad).index\n",
        "print('Nro. Registros inicial   : ' + str(len(dataAll)))\n",
        "print('Nro. Registros a eliminar: ' + str(len(indexEdad)))\n",
        "\n",
        "dataAll.drop(indexEdad, inplace=True)\n",
        "print('Nro. Registros final     : ' + str(len(dataAll)))\n",
        "\n",
        "dataAll.reset_index(drop=True, inplace=True)"
      ],
      "metadata": {
        "colab": {
          "base_uri": "https://localhost:8080/"
        },
        "id": "ZJDJr0TsR17J",
        "outputId": "79a87f56-2b5d-42a4-9597-d82214964c2c"
      },
      "execution_count": 7,
      "outputs": [
        {
          "output_type": "stream",
          "name": "stdout",
          "text": [
            "Nro. Registros inicial   : 8779\n",
            "Nro. Registros a eliminar: 94\n",
            "Nro. Registros final     : 8685\n"
          ]
        }
      ]
    },
    {
      "cell_type": "code",
      "source": [
        "condicionEdad = \"(NACANIO > 2022)\"\n",
        "\n",
        "indexEdad = dataAll.query(condicionEdad).index\n",
        "print('Nro. Registros inicial   : ' + str(len(dataAll)))\n",
        "print('Nro. Registros a eliminar: ' + str(len(indexEdad)))\n",
        "\n",
        "dataAll.drop(indexEdad, inplace=True)\n",
        "print('Nro. Registros final     : ' + str(len(dataAll)))\n",
        "\n",
        "dataAll.reset_index(drop=True, inplace=True)"
      ],
      "metadata": {
        "colab": {
          "base_uri": "https://localhost:8080/"
        },
        "id": "NoumsYVktg7j",
        "outputId": "58659cc0-bd01-4dc5-897b-fac9b8c0637d"
      },
      "execution_count": 8,
      "outputs": [
        {
          "output_type": "stream",
          "name": "stdout",
          "text": [
            "Nro. Registros inicial   : 8685\n",
            "Nro. Registros a eliminar: 2\n",
            "Nro. Registros final     : 8683\n"
          ]
        }
      ]
    },
    {
      "cell_type": "markdown",
      "source": [
        "### **Depurado** Columnas\n",
        "Durante la carga de datos, se ingresaron multiples denominaciones para columnas que describen lo mismo, se procederá a unificar y depurar dichas columnas.\n",
        "1. Renombrando las columnas a una extensión menor\n",
        "2. Eliminando los valores **NaN**\n",
        "3. Rescatando los valores en una única columna\n",
        "4. Eliminando los campos duplicados e irrelevantes"
      ],
      "metadata": {
        "id": "Q8Xed1YOdx5Q"
      }
    },
    {
      "cell_type": "code",
      "source": [
        "# 1. Renombrando las columnas a una extensión menor\n",
        "#dataTemp = dataAll.copy(deep=True)\n",
        "#dataAll = dataTemp.copy(deep=True)\n",
        "dataAll.columns"
      ],
      "metadata": {
        "colab": {
          "base_uri": "https://localhost:8080/"
        },
        "id": "dL3CTZ82ZPBt",
        "outputId": "bca17d8d-c62e-44dc-eb54-75bc9fee25dc"
      },
      "execution_count": 9,
      "outputs": [
        {
          "output_type": "execute_result",
          "data": {
            "text/plain": [
              "Index(['N° DNI', 'APEPATERNO', 'APEMATRNO', 'NOMBRES', 'SEXO', 'NACDIA',\n",
              "       'NACMES', 'NACANIO',\n",
              "       'NIVEL DE INSTRUCCIÓN (Inicial, primaria, secundaria, superior)',\n",
              "       'NIVEL SOCIOECONÓMICO  SISFHO', '¿CUENTA CON CERTIFICACIÓN?',\n",
              "       'TIPO DE DISCAPACIDAD', 'NIVEL DE DISCAPACIDAD',\n",
              "       '¿CUENTA CON CARNE CONADIS?', 'DEPARTAMENTO', 'PROVINCIA',\n",
              "       'DISTRITO DOMICILIO', 'ANEXO / CENTRO POBLADO (DOMICILIO)',\n",
              "       'DIRECCION DOMICILIARIA', 'CELULAR DE LA PCD',\n",
              "       'DIACADUCIDADCERTIFICADO', 'MESCADUCIDADCERTIFICADO',\n",
              "       'ANIOCADUCIDADCERTIFICADO',\n",
              "       'NIVEL DE INSTRUCCIÓN (Inicial; primaria; secundaria; superior)', 'DNI',\n",
              "       'NOMBRE',\n",
              "       'NIVEL DE INSTRUCCIÓN (Inicial,\\n primaria, secundaria, superios)',\n",
              "       'NIVEL \\nSOCIOECONOMICO', '¿CUENTA CON \\nCERTIFICADO?',\n",
              "       'TIPO DE \\nDISCAPACIDAD', 'NIVEL DE \\nDISCAPACIDAD',\n",
              "       '¿ CUENTA COM \\nCARNE  CONADIS?', 'DISTRITO/DOMICILIO',\n",
              "       'ANEXO/CENTRO POBLADO \\n(DOMICILIO)', 'CELULAR DE  LA PCD',\n",
              "       'DIACADUCIDAD CERTIFICADO', 'MESCADUCIDAD CERTIFICADO', 'ANIOCADUCIDAD',\n",
              "       '¿ CUENTA CON \\nCARNE  CONADIS?', 'Unnamed: 24', '', 'EDAD'],\n",
              "      dtype='object')"
            ]
          },
          "metadata": {},
          "execution_count": 9
        }
      ]
    },
    {
      "cell_type": "code",
      "source": [
        "dataAll.rename(columns = {'N° DNI':'DNI',\n",
        "                          'TIPO DE \\nDISCAPACIDAD':'TIPO DE DISCAPACIDAD2',\n",
        "                          'NIVEL DE \\nDISCAPACIDAD':'NIVEL DE DISCAPACIDAD2',\n",
        "                          'NIVEL DE INSTRUCCIÓN (Inicial, primaria, secundaria, superior)':'INSTRUCCION1', \n",
        "                          'NIVEL DE INSTRUCCIÓN (Inicial; primaria; secundaria; superior)':'INSTRUCCION2', \n",
        "                          'NIVEL DE INSTRUCCIÓN (Inicial,\\n primaria, secundaria, superios)':'INSTRUCCION3',\n",
        "                          'NIVEL SOCIOECONÓMICO  SISFHO':'SISFHO',\n",
        "                          'NIVEL \\nSOCIOECONOMICO':'SISFHO2',\n",
        "                          '¿CUENTA CON CERTIFICACIÓN?':'CERTIFICADO',\n",
        "                          '¿CUENTA CON \\nCERTIFICADO?':'CERTIFICADO2',\n",
        "                          '¿CUENTA CON CARNE CONADIS?':'CONADIS',\n",
        "                          '¿ CUENTA COM \\nCARNE  CONADIS?':'CONADIS2',\n",
        "                          '¿ CUENTA CON \\nCARNE  CONADIS?':'CONADIS3',\n",
        "                          'CELULAR DE LA PCD':'CELULAR',\n",
        "                          'CELULAR DE  LA PCD':'CELULAR2',\n",
        "                          'DISTRITO DOMICILIO':'DISTRITO',\n",
        "                          'DISTRITO/DOMICILIO':'DISTRITO2',\n",
        "                          'DIRECCION DOMICILIARIA':'DOMICILIO',\n",
        "                          'ANEXO / CENTRO POBLADO (DOMICILIO)':'ANEXO',\n",
        "                          'ANEXO/CENTRO POBLADO \\n(DOMICILIO)':'ANEXO2'}, inplace = True)\n",
        "\n",
        "dataAll.columns"
      ],
      "metadata": {
        "colab": {
          "base_uri": "https://localhost:8080/"
        },
        "id": "TO_xg5TZ1BC4",
        "outputId": "8028264f-2ff3-4611-bc21-4699d244e9b1"
      },
      "execution_count": 10,
      "outputs": [
        {
          "output_type": "execute_result",
          "data": {
            "text/plain": [
              "Index(['DNI', 'APEPATERNO', 'APEMATRNO', 'NOMBRES', 'SEXO', 'NACDIA', 'NACMES',\n",
              "       'NACANIO', 'INSTRUCCION1', 'SISFHO', 'CERTIFICADO',\n",
              "       'TIPO DE DISCAPACIDAD', 'NIVEL DE DISCAPACIDAD', 'CONADIS',\n",
              "       'DEPARTAMENTO', 'PROVINCIA', 'DISTRITO', 'ANEXO', 'DOMICILIO',\n",
              "       'CELULAR', 'DIACADUCIDADCERTIFICADO', 'MESCADUCIDADCERTIFICADO',\n",
              "       'ANIOCADUCIDADCERTIFICADO', 'INSTRUCCION2', 'DNI', 'NOMBRE',\n",
              "       'INSTRUCCION3', 'SISFHO2', 'CERTIFICADO2', 'TIPO DE DISCAPACIDAD2',\n",
              "       'NIVEL DE DISCAPACIDAD2', 'CONADIS2', 'DISTRITO2', 'ANEXO2', 'CELULAR2',\n",
              "       'DIACADUCIDAD CERTIFICADO', 'MESCADUCIDAD CERTIFICADO', 'ANIOCADUCIDAD',\n",
              "       'CONADIS3', 'Unnamed: 24', '', 'EDAD'],\n",
              "      dtype='object')"
            ]
          },
          "metadata": {},
          "execution_count": 10
        }
      ]
    },
    {
      "cell_type": "code",
      "source": [
        "# 2. Eliminando los valores NaN\n",
        "dataAll['TIPO DE DISCAPACIDAD'] = dataAll['TIPO DE DISCAPACIDAD'].fillna('')\n",
        "dataAll['TIPO DE DISCAPACIDAD2'] = dataAll['TIPO DE DISCAPACIDAD2'].fillna('')\n",
        "dataAll['NIVEL DE DISCAPACIDAD'] = dataAll['NIVEL DE DISCAPACIDAD'].fillna('')\n",
        "dataAll['NIVEL DE DISCAPACIDAD2'] = dataAll['NIVEL DE DISCAPACIDAD2'].fillna('')\n",
        "dataAll['CELULAR'] = dataAll['CELULAR'].fillna('')\n",
        "dataAll['CELULAR2'] = dataAll['CELULAR2'].fillna('')\n",
        "dataAll['INSTRUCCION1'] = dataAll['INSTRUCCION1'].fillna('')\n",
        "dataAll['INSTRUCCION2'] = dataAll['INSTRUCCION2'].fillna('')\n",
        "dataAll['INSTRUCCION3'] = dataAll['INSTRUCCION3'].fillna('')\n",
        "dataAll['SISFHO'] = dataAll['SISFHO'].fillna('')\n",
        "dataAll['SISFHO2'] = dataAll['SISFHO2'].fillna('')\n",
        "dataAll['CERTIFICADO'] = dataAll['CERTIFICADO'].fillna('')\n",
        "dataAll['CERTIFICADO2'] = dataAll['CERTIFICADO2'].fillna('')\n",
        "dataAll['CONADIS'] = dataAll['CONADIS'].fillna('')\n",
        "dataAll['CONADIS2'] = dataAll['CONADIS2'].fillna('')\n",
        "dataAll['CONADIS3'] = dataAll['CONADIS3'].fillna('')\n",
        "dataAll['DISTRITO'] = dataAll['DISTRITO'].fillna('')\n",
        "dataAll['DISTRITO2'] = dataAll['DISTRITO2'].fillna('')\n",
        "dataAll['ANEXO'] = dataAll['ANEXO'].fillna('')\n",
        "dataAll['ANEXO2'] = dataAll['ANEXO2'].fillna('')"
      ],
      "metadata": {
        "id": "0zsOw6CNB6Oq"
      },
      "execution_count": 11,
      "outputs": []
    },
    {
      "cell_type": "code",
      "source": [
        "# 3. Rescatando los valores en una única columna\n",
        "dataAll['TIPO DE DISCAPACIDAD'] = dataAll['TIPO DE DISCAPACIDAD'] + dataAll['TIPO DE DISCAPACIDAD2']\n",
        "dataAll['NIVEL DE DISCAPACIDAD'] = dataAll['NIVEL DE DISCAPACIDAD'] + dataAll['NIVEL DE DISCAPACIDAD2']\n",
        "dataAll['SISFHO'] = dataAll['SISFHO'] + dataAll['SISFHO2']\n",
        "dataAll['CERTIFICADO'] = dataAll['CERTIFICADO'] + dataAll['CERTIFICADO2']\n",
        "dataAll['CONADIS'] = dataAll['CONADIS'] + dataAll['CONADIS2'] + dataAll['CONADIS3']\n",
        "dataAll['DISTRITO'] = dataAll['DISTRITO'] + dataAll['DISTRITO2']\n",
        "dataAll['INSTRUCCION'] = dataAll['INSTRUCCION1'] + dataAll['INSTRUCCION2'] + dataAll['INSTRUCCION3']"
      ],
      "metadata": {
        "id": "aocRDWB1xsuH"
      },
      "execution_count": 12,
      "outputs": []
    },
    {
      "cell_type": "code",
      "source": [
        "# 4. Eliminando los campos duplicados e irrelevantes\n",
        "dataAll.drop(['TIPO DE DISCAPACIDAD2', 'NIVEL DE DISCAPACIDAD2', 'CELULAR', 'CELULAR2', 'SISFHO2', \n",
        "              'CERTIFICADO2', 'CONADIS2', 'CONADIS3', 'DISTRITO2', 'ANEXO', 'ANEXO2', 'INSTRUCCION1', \n",
        "              'INSTRUCCION2', 'INSTRUCCION3', '', \n",
        "              'DOMICILIO', 'DIACADUCIDADCERTIFICADO',\n",
        "              'MESCADUCIDADCERTIFICADO', 'ANIOCADUCIDADCERTIFICADO', 'DNI', 'NOMBRE', 'APEPATERNO', 'APEMATRNO', 'NOMBRES',\n",
        "              'DIACADUCIDAD CERTIFICADO', 'MESCADUCIDAD CERTIFICADO', 'ANIOCADUCIDAD', 'Unnamed: 24'], inplace=True, axis=1)\n",
        "dataAll.columns"
      ],
      "metadata": {
        "colab": {
          "base_uri": "https://localhost:8080/"
        },
        "id": "R9A7K3UJotEe",
        "outputId": "33c44642-4f36-4c3f-b935-909a37193607"
      },
      "execution_count": 13,
      "outputs": [
        {
          "output_type": "execute_result",
          "data": {
            "text/plain": [
              "Index(['SEXO', 'NACDIA', 'NACMES', 'NACANIO', 'SISFHO', 'CERTIFICADO',\n",
              "       'TIPO DE DISCAPACIDAD', 'NIVEL DE DISCAPACIDAD', 'CONADIS',\n",
              "       'DEPARTAMENTO', 'PROVINCIA', 'DISTRITO', 'EDAD', 'INSTRUCCION'],\n",
              "      dtype='object')"
            ]
          },
          "metadata": {},
          "execution_count": 13
        }
      ]
    },
    {
      "cell_type": "code",
      "source": [
        "dataAll.shape"
      ],
      "metadata": {
        "colab": {
          "base_uri": "https://localhost:8080/"
        },
        "id": "uWiYukcrqaZY",
        "outputId": "2850b835-6fba-44a6-d64c-fe4ba4c447fd"
      },
      "execution_count": 14,
      "outputs": [
        {
          "output_type": "execute_result",
          "data": {
            "text/plain": [
              "(8683, 14)"
            ]
          },
          "metadata": {},
          "execution_count": 14
        }
      ]
    },
    {
      "cell_type": "code",
      "source": [
        "dataAll.head()"
      ],
      "metadata": {
        "colab": {
          "base_uri": "https://localhost:8080/",
          "height": 320
        },
        "id": "nH9-kCpCoZFo",
        "outputId": "d79081c8-f1a3-4ef3-d51b-723179e856d9"
      },
      "execution_count": 15,
      "outputs": [
        {
          "output_type": "execute_result",
          "data": {
            "text/plain": [
              "  SEXO  NACDIA  NACMES  NACANIO         SISFHO CERTIFICADO  \\\n",
              "0    M      27       3     1988         POBRE            X   \n",
              "1    M      16       7     1993         POBRE            X   \n",
              "2    F      20       5     1940  POBRE EXTREMO           X   \n",
              "3    F       9       3     2017         POBRE            X   \n",
              "4    M      20       2     1972  POBRE EXTREMO           X   \n",
              "\n",
              "  TIPO DE DISCAPACIDAD NIVEL DE DISCAPACIDAD CONADIS DEPARTAMENTO PROVINCIA  \\\n",
              "0         INTELECTUAL                SEVERA        X     AYACUCHO     SUCRE   \n",
              "1              FÍSICA                SEVERA        X     AYACUCHO     SUCRE   \n",
              "2         INTELECTUAL                SEVERA        X     AYACUCHO     SUCRE   \n",
              "3              FÍSICA                SEVERA        X     AYACUCHO     SUCRE   \n",
              "4         INTELECTUAL                SEVERA        X     AYACUCHO     SUCRE   \n",
              "\n",
              "    DISTRITO  EDAD           INSTRUCCION  \n",
              "0  CHILCAYOC    35              NINGUNO   \n",
              "1  CHILCAYOC    30   SECUNDARIA COMPLETA  \n",
              "2  CHILCAYOC    83              NINGUNO   \n",
              "3  CHILCAYOC     6              INICIAL   \n",
              "4  CHILCAYOC    51   PRIMARIA INCOMPLETA  "
            ],
            "text/html": [
              "\n",
              "  <div id=\"df-2daeb320-326f-4db3-9d1b-4b43c22336ff\">\n",
              "    <div class=\"colab-df-container\">\n",
              "      <div>\n",
              "<style scoped>\n",
              "    .dataframe tbody tr th:only-of-type {\n",
              "        vertical-align: middle;\n",
              "    }\n",
              "\n",
              "    .dataframe tbody tr th {\n",
              "        vertical-align: top;\n",
              "    }\n",
              "\n",
              "    .dataframe thead th {\n",
              "        text-align: right;\n",
              "    }\n",
              "</style>\n",
              "<table border=\"1\" class=\"dataframe\">\n",
              "  <thead>\n",
              "    <tr style=\"text-align: right;\">\n",
              "      <th></th>\n",
              "      <th>SEXO</th>\n",
              "      <th>NACDIA</th>\n",
              "      <th>NACMES</th>\n",
              "      <th>NACANIO</th>\n",
              "      <th>SISFHO</th>\n",
              "      <th>CERTIFICADO</th>\n",
              "      <th>TIPO DE DISCAPACIDAD</th>\n",
              "      <th>NIVEL DE DISCAPACIDAD</th>\n",
              "      <th>CONADIS</th>\n",
              "      <th>DEPARTAMENTO</th>\n",
              "      <th>PROVINCIA</th>\n",
              "      <th>DISTRITO</th>\n",
              "      <th>EDAD</th>\n",
              "      <th>INSTRUCCION</th>\n",
              "    </tr>\n",
              "  </thead>\n",
              "  <tbody>\n",
              "    <tr>\n",
              "      <th>0</th>\n",
              "      <td>M</td>\n",
              "      <td>27</td>\n",
              "      <td>3</td>\n",
              "      <td>1988</td>\n",
              "      <td>POBRE</td>\n",
              "      <td>X</td>\n",
              "      <td>INTELECTUAL</td>\n",
              "      <td>SEVERA</td>\n",
              "      <td>X</td>\n",
              "      <td>AYACUCHO</td>\n",
              "      <td>SUCRE</td>\n",
              "      <td>CHILCAYOC</td>\n",
              "      <td>35</td>\n",
              "      <td>NINGUNO</td>\n",
              "    </tr>\n",
              "    <tr>\n",
              "      <th>1</th>\n",
              "      <td>M</td>\n",
              "      <td>16</td>\n",
              "      <td>7</td>\n",
              "      <td>1993</td>\n",
              "      <td>POBRE</td>\n",
              "      <td>X</td>\n",
              "      <td>FÍSICA</td>\n",
              "      <td>SEVERA</td>\n",
              "      <td>X</td>\n",
              "      <td>AYACUCHO</td>\n",
              "      <td>SUCRE</td>\n",
              "      <td>CHILCAYOC</td>\n",
              "      <td>30</td>\n",
              "      <td>SECUNDARIA COMPLETA</td>\n",
              "    </tr>\n",
              "    <tr>\n",
              "      <th>2</th>\n",
              "      <td>F</td>\n",
              "      <td>20</td>\n",
              "      <td>5</td>\n",
              "      <td>1940</td>\n",
              "      <td>POBRE EXTREMO</td>\n",
              "      <td>X</td>\n",
              "      <td>INTELECTUAL</td>\n",
              "      <td>SEVERA</td>\n",
              "      <td>X</td>\n",
              "      <td>AYACUCHO</td>\n",
              "      <td>SUCRE</td>\n",
              "      <td>CHILCAYOC</td>\n",
              "      <td>83</td>\n",
              "      <td>NINGUNO</td>\n",
              "    </tr>\n",
              "    <tr>\n",
              "      <th>3</th>\n",
              "      <td>F</td>\n",
              "      <td>9</td>\n",
              "      <td>3</td>\n",
              "      <td>2017</td>\n",
              "      <td>POBRE</td>\n",
              "      <td>X</td>\n",
              "      <td>FÍSICA</td>\n",
              "      <td>SEVERA</td>\n",
              "      <td>X</td>\n",
              "      <td>AYACUCHO</td>\n",
              "      <td>SUCRE</td>\n",
              "      <td>CHILCAYOC</td>\n",
              "      <td>6</td>\n",
              "      <td>INICIAL</td>\n",
              "    </tr>\n",
              "    <tr>\n",
              "      <th>4</th>\n",
              "      <td>M</td>\n",
              "      <td>20</td>\n",
              "      <td>2</td>\n",
              "      <td>1972</td>\n",
              "      <td>POBRE EXTREMO</td>\n",
              "      <td>X</td>\n",
              "      <td>INTELECTUAL</td>\n",
              "      <td>SEVERA</td>\n",
              "      <td>X</td>\n",
              "      <td>AYACUCHO</td>\n",
              "      <td>SUCRE</td>\n",
              "      <td>CHILCAYOC</td>\n",
              "      <td>51</td>\n",
              "      <td>PRIMARIA INCOMPLETA</td>\n",
              "    </tr>\n",
              "  </tbody>\n",
              "</table>\n",
              "</div>\n",
              "      <button class=\"colab-df-convert\" onclick=\"convertToInteractive('df-2daeb320-326f-4db3-9d1b-4b43c22336ff')\"\n",
              "              title=\"Convert this dataframe to an interactive table.\"\n",
              "              style=\"display:none;\">\n",
              "        \n",
              "  <svg xmlns=\"http://www.w3.org/2000/svg\" height=\"24px\"viewBox=\"0 0 24 24\"\n",
              "       width=\"24px\">\n",
              "    <path d=\"M0 0h24v24H0V0z\" fill=\"none\"/>\n",
              "    <path d=\"M18.56 5.44l.94 2.06.94-2.06 2.06-.94-2.06-.94-.94-2.06-.94 2.06-2.06.94zm-11 1L8.5 8.5l.94-2.06 2.06-.94-2.06-.94L8.5 2.5l-.94 2.06-2.06.94zm10 10l.94 2.06.94-2.06 2.06-.94-2.06-.94-.94-2.06-.94 2.06-2.06.94z\"/><path d=\"M17.41 7.96l-1.37-1.37c-.4-.4-.92-.59-1.43-.59-.52 0-1.04.2-1.43.59L10.3 9.45l-7.72 7.72c-.78.78-.78 2.05 0 2.83L4 21.41c.39.39.9.59 1.41.59.51 0 1.02-.2 1.41-.59l7.78-7.78 2.81-2.81c.8-.78.8-2.07 0-2.86zM5.41 20L4 18.59l7.72-7.72 1.47 1.35L5.41 20z\"/>\n",
              "  </svg>\n",
              "      </button>\n",
              "      \n",
              "  <style>\n",
              "    .colab-df-container {\n",
              "      display:flex;\n",
              "      flex-wrap:wrap;\n",
              "      gap: 12px;\n",
              "    }\n",
              "\n",
              "    .colab-df-convert {\n",
              "      background-color: #E8F0FE;\n",
              "      border: none;\n",
              "      border-radius: 50%;\n",
              "      cursor: pointer;\n",
              "      display: none;\n",
              "      fill: #1967D2;\n",
              "      height: 32px;\n",
              "      padding: 0 0 0 0;\n",
              "      width: 32px;\n",
              "    }\n",
              "\n",
              "    .colab-df-convert:hover {\n",
              "      background-color: #E2EBFA;\n",
              "      box-shadow: 0px 1px 2px rgba(60, 64, 67, 0.3), 0px 1px 3px 1px rgba(60, 64, 67, 0.15);\n",
              "      fill: #174EA6;\n",
              "    }\n",
              "\n",
              "    [theme=dark] .colab-df-convert {\n",
              "      background-color: #3B4455;\n",
              "      fill: #D2E3FC;\n",
              "    }\n",
              "\n",
              "    [theme=dark] .colab-df-convert:hover {\n",
              "      background-color: #434B5C;\n",
              "      box-shadow: 0px 1px 3px 1px rgba(0, 0, 0, 0.15);\n",
              "      filter: drop-shadow(0px 1px 2px rgba(0, 0, 0, 0.3));\n",
              "      fill: #FFFFFF;\n",
              "    }\n",
              "  </style>\n",
              "\n",
              "      <script>\n",
              "        const buttonEl =\n",
              "          document.querySelector('#df-2daeb320-326f-4db3-9d1b-4b43c22336ff button.colab-df-convert');\n",
              "        buttonEl.style.display =\n",
              "          google.colab.kernel.accessAllowed ? 'block' : 'none';\n",
              "\n",
              "        async function convertToInteractive(key) {\n",
              "          const element = document.querySelector('#df-2daeb320-326f-4db3-9d1b-4b43c22336ff');\n",
              "          const dataTable =\n",
              "            await google.colab.kernel.invokeFunction('convertToInteractive',\n",
              "                                                     [key], {});\n",
              "          if (!dataTable) return;\n",
              "\n",
              "          const docLinkHtml = 'Like what you see? Visit the ' +\n",
              "            '<a target=\"_blank\" href=https://colab.research.google.com/notebooks/data_table.ipynb>data table notebook</a>'\n",
              "            + ' to learn more about interactive tables.';\n",
              "          element.innerHTML = '';\n",
              "          dataTable['output_type'] = 'display_data';\n",
              "          await google.colab.output.renderOutput(dataTable, element);\n",
              "          const docLink = document.createElement('div');\n",
              "          docLink.innerHTML = docLinkHtml;\n",
              "          element.appendChild(docLink);\n",
              "        }\n",
              "      </script>\n",
              "    </div>\n",
              "  </div>\n",
              "  "
            ]
          },
          "metadata": {},
          "execution_count": 15
        }
      ]
    },
    {
      "cell_type": "code",
      "source": [
        "dataAll.to_csv('dataPCD.csv')"
      ],
      "metadata": {
        "id": "t0fLCqLbyNqU"
      },
      "execution_count": null,
      "outputs": []
    },
    {
      "cell_type": "markdown",
      "source": [
        "## 1. Carga de **DataFrame** y Limpieza\n",
        "En los pasos previos se proceso data de los diferentes archivos XLSX (*origenes de datos*), eliminando información irrelevante para efectos del presente análisis.\n",
        "A partir de esta sección se trabajará con el DataFrame depurado y con data relevante, cuya fuente CSV se encuentra para su revisión en el GitHub."
      ],
      "metadata": {
        "id": "jQZi3_MpvsPg"
      }
    },
    {
      "cell_type": "code",
      "source": [
        "import pandas as pd\n",
        "\n",
        "path = 'https://github.com/CVilaNet/PCDAyac/raw/main/Data/'\n",
        "name = 'dataPCD.csv'\n",
        "\n",
        "dataAll = pd.read_csv(path + name)\n",
        "dataAll.shape"
      ],
      "metadata": {
        "colab": {
          "base_uri": "https://localhost:8080/"
        },
        "id": "qNPu6mc2wl2a",
        "outputId": "3148ec7c-548d-4614-b857-2cab4f3090a1"
      },
      "execution_count": 1,
      "outputs": [
        {
          "output_type": "execute_result",
          "data": {
            "text/plain": [
              "(8683, 15)"
            ]
          },
          "metadata": {},
          "execution_count": 1
        }
      ]
    },
    {
      "cell_type": "code",
      "source": [
        "dataAll.head()"
      ],
      "metadata": {
        "colab": {
          "base_uri": "https://localhost:8080/",
          "height": 340
        },
        "id": "ZP5PP1HZy35B",
        "outputId": "8499de1d-5fab-4ad5-8aec-49c494f4b0a9"
      },
      "execution_count": 2,
      "outputs": [
        {
          "output_type": "execute_result",
          "data": {
            "text/plain": [
              "   Unnamed: 0 SEXO  NACDIA  NACMES  NACANIO         SISFHO CERTIFICADO  \\\n",
              "0           0    M      27       3     1988         POBRE            X   \n",
              "1           1    M      16       7     1993         POBRE            X   \n",
              "2           2    F      20       5     1940  POBRE EXTREMO           X   \n",
              "3           3    F       9       3     2017         POBRE            X   \n",
              "4           4    M      20       2     1972  POBRE EXTREMO           X   \n",
              "\n",
              "  TIPO DE DISCAPACIDAD NIVEL DE DISCAPACIDAD CONADIS DEPARTAMENTO PROVINCIA  \\\n",
              "0         INTELECTUAL                SEVERA        X     AYACUCHO     SUCRE   \n",
              "1              FÍSICA                SEVERA        X     AYACUCHO     SUCRE   \n",
              "2         INTELECTUAL                SEVERA        X     AYACUCHO     SUCRE   \n",
              "3              FÍSICA                SEVERA        X     AYACUCHO     SUCRE   \n",
              "4         INTELECTUAL                SEVERA        X     AYACUCHO     SUCRE   \n",
              "\n",
              "    DISTRITO  EDAD           INSTRUCCION  \n",
              "0  CHILCAYOC    35              NINGUNO   \n",
              "1  CHILCAYOC    30   SECUNDARIA COMPLETA  \n",
              "2  CHILCAYOC    83              NINGUNO   \n",
              "3  CHILCAYOC     6              INICIAL   \n",
              "4  CHILCAYOC    51   PRIMARIA INCOMPLETA  "
            ],
            "text/html": [
              "\n",
              "  <div id=\"df-5e9b7dff-0c39-4468-9a58-f16b4c7fd671\">\n",
              "    <div class=\"colab-df-container\">\n",
              "      <div>\n",
              "<style scoped>\n",
              "    .dataframe tbody tr th:only-of-type {\n",
              "        vertical-align: middle;\n",
              "    }\n",
              "\n",
              "    .dataframe tbody tr th {\n",
              "        vertical-align: top;\n",
              "    }\n",
              "\n",
              "    .dataframe thead th {\n",
              "        text-align: right;\n",
              "    }\n",
              "</style>\n",
              "<table border=\"1\" class=\"dataframe\">\n",
              "  <thead>\n",
              "    <tr style=\"text-align: right;\">\n",
              "      <th></th>\n",
              "      <th>Unnamed: 0</th>\n",
              "      <th>SEXO</th>\n",
              "      <th>NACDIA</th>\n",
              "      <th>NACMES</th>\n",
              "      <th>NACANIO</th>\n",
              "      <th>SISFHO</th>\n",
              "      <th>CERTIFICADO</th>\n",
              "      <th>TIPO DE DISCAPACIDAD</th>\n",
              "      <th>NIVEL DE DISCAPACIDAD</th>\n",
              "      <th>CONADIS</th>\n",
              "      <th>DEPARTAMENTO</th>\n",
              "      <th>PROVINCIA</th>\n",
              "      <th>DISTRITO</th>\n",
              "      <th>EDAD</th>\n",
              "      <th>INSTRUCCION</th>\n",
              "    </tr>\n",
              "  </thead>\n",
              "  <tbody>\n",
              "    <tr>\n",
              "      <th>0</th>\n",
              "      <td>0</td>\n",
              "      <td>M</td>\n",
              "      <td>27</td>\n",
              "      <td>3</td>\n",
              "      <td>1988</td>\n",
              "      <td>POBRE</td>\n",
              "      <td>X</td>\n",
              "      <td>INTELECTUAL</td>\n",
              "      <td>SEVERA</td>\n",
              "      <td>X</td>\n",
              "      <td>AYACUCHO</td>\n",
              "      <td>SUCRE</td>\n",
              "      <td>CHILCAYOC</td>\n",
              "      <td>35</td>\n",
              "      <td>NINGUNO</td>\n",
              "    </tr>\n",
              "    <tr>\n",
              "      <th>1</th>\n",
              "      <td>1</td>\n",
              "      <td>M</td>\n",
              "      <td>16</td>\n",
              "      <td>7</td>\n",
              "      <td>1993</td>\n",
              "      <td>POBRE</td>\n",
              "      <td>X</td>\n",
              "      <td>FÍSICA</td>\n",
              "      <td>SEVERA</td>\n",
              "      <td>X</td>\n",
              "      <td>AYACUCHO</td>\n",
              "      <td>SUCRE</td>\n",
              "      <td>CHILCAYOC</td>\n",
              "      <td>30</td>\n",
              "      <td>SECUNDARIA COMPLETA</td>\n",
              "    </tr>\n",
              "    <tr>\n",
              "      <th>2</th>\n",
              "      <td>2</td>\n",
              "      <td>F</td>\n",
              "      <td>20</td>\n",
              "      <td>5</td>\n",
              "      <td>1940</td>\n",
              "      <td>POBRE EXTREMO</td>\n",
              "      <td>X</td>\n",
              "      <td>INTELECTUAL</td>\n",
              "      <td>SEVERA</td>\n",
              "      <td>X</td>\n",
              "      <td>AYACUCHO</td>\n",
              "      <td>SUCRE</td>\n",
              "      <td>CHILCAYOC</td>\n",
              "      <td>83</td>\n",
              "      <td>NINGUNO</td>\n",
              "    </tr>\n",
              "    <tr>\n",
              "      <th>3</th>\n",
              "      <td>3</td>\n",
              "      <td>F</td>\n",
              "      <td>9</td>\n",
              "      <td>3</td>\n",
              "      <td>2017</td>\n",
              "      <td>POBRE</td>\n",
              "      <td>X</td>\n",
              "      <td>FÍSICA</td>\n",
              "      <td>SEVERA</td>\n",
              "      <td>X</td>\n",
              "      <td>AYACUCHO</td>\n",
              "      <td>SUCRE</td>\n",
              "      <td>CHILCAYOC</td>\n",
              "      <td>6</td>\n",
              "      <td>INICIAL</td>\n",
              "    </tr>\n",
              "    <tr>\n",
              "      <th>4</th>\n",
              "      <td>4</td>\n",
              "      <td>M</td>\n",
              "      <td>20</td>\n",
              "      <td>2</td>\n",
              "      <td>1972</td>\n",
              "      <td>POBRE EXTREMO</td>\n",
              "      <td>X</td>\n",
              "      <td>INTELECTUAL</td>\n",
              "      <td>SEVERA</td>\n",
              "      <td>X</td>\n",
              "      <td>AYACUCHO</td>\n",
              "      <td>SUCRE</td>\n",
              "      <td>CHILCAYOC</td>\n",
              "      <td>51</td>\n",
              "      <td>PRIMARIA INCOMPLETA</td>\n",
              "    </tr>\n",
              "  </tbody>\n",
              "</table>\n",
              "</div>\n",
              "      <button class=\"colab-df-convert\" onclick=\"convertToInteractive('df-5e9b7dff-0c39-4468-9a58-f16b4c7fd671')\"\n",
              "              title=\"Convert this dataframe to an interactive table.\"\n",
              "              style=\"display:none;\">\n",
              "        \n",
              "  <svg xmlns=\"http://www.w3.org/2000/svg\" height=\"24px\"viewBox=\"0 0 24 24\"\n",
              "       width=\"24px\">\n",
              "    <path d=\"M0 0h24v24H0V0z\" fill=\"none\"/>\n",
              "    <path d=\"M18.56 5.44l.94 2.06.94-2.06 2.06-.94-2.06-.94-.94-2.06-.94 2.06-2.06.94zm-11 1L8.5 8.5l.94-2.06 2.06-.94-2.06-.94L8.5 2.5l-.94 2.06-2.06.94zm10 10l.94 2.06.94-2.06 2.06-.94-2.06-.94-.94-2.06-.94 2.06-2.06.94z\"/><path d=\"M17.41 7.96l-1.37-1.37c-.4-.4-.92-.59-1.43-.59-.52 0-1.04.2-1.43.59L10.3 9.45l-7.72 7.72c-.78.78-.78 2.05 0 2.83L4 21.41c.39.39.9.59 1.41.59.51 0 1.02-.2 1.41-.59l7.78-7.78 2.81-2.81c.8-.78.8-2.07 0-2.86zM5.41 20L4 18.59l7.72-7.72 1.47 1.35L5.41 20z\"/>\n",
              "  </svg>\n",
              "      </button>\n",
              "      \n",
              "  <style>\n",
              "    .colab-df-container {\n",
              "      display:flex;\n",
              "      flex-wrap:wrap;\n",
              "      gap: 12px;\n",
              "    }\n",
              "\n",
              "    .colab-df-convert {\n",
              "      background-color: #E8F0FE;\n",
              "      border: none;\n",
              "      border-radius: 50%;\n",
              "      cursor: pointer;\n",
              "      display: none;\n",
              "      fill: #1967D2;\n",
              "      height: 32px;\n",
              "      padding: 0 0 0 0;\n",
              "      width: 32px;\n",
              "    }\n",
              "\n",
              "    .colab-df-convert:hover {\n",
              "      background-color: #E2EBFA;\n",
              "      box-shadow: 0px 1px 2px rgba(60, 64, 67, 0.3), 0px 1px 3px 1px rgba(60, 64, 67, 0.15);\n",
              "      fill: #174EA6;\n",
              "    }\n",
              "\n",
              "    [theme=dark] .colab-df-convert {\n",
              "      background-color: #3B4455;\n",
              "      fill: #D2E3FC;\n",
              "    }\n",
              "\n",
              "    [theme=dark] .colab-df-convert:hover {\n",
              "      background-color: #434B5C;\n",
              "      box-shadow: 0px 1px 3px 1px rgba(0, 0, 0, 0.15);\n",
              "      filter: drop-shadow(0px 1px 2px rgba(0, 0, 0, 0.3));\n",
              "      fill: #FFFFFF;\n",
              "    }\n",
              "  </style>\n",
              "\n",
              "      <script>\n",
              "        const buttonEl =\n",
              "          document.querySelector('#df-5e9b7dff-0c39-4468-9a58-f16b4c7fd671 button.colab-df-convert');\n",
              "        buttonEl.style.display =\n",
              "          google.colab.kernel.accessAllowed ? 'block' : 'none';\n",
              "\n",
              "        async function convertToInteractive(key) {\n",
              "          const element = document.querySelector('#df-5e9b7dff-0c39-4468-9a58-f16b4c7fd671');\n",
              "          const dataTable =\n",
              "            await google.colab.kernel.invokeFunction('convertToInteractive',\n",
              "                                                     [key], {});\n",
              "          if (!dataTable) return;\n",
              "\n",
              "          const docLinkHtml = 'Like what you see? Visit the ' +\n",
              "            '<a target=\"_blank\" href=https://colab.research.google.com/notebooks/data_table.ipynb>data table notebook</a>'\n",
              "            + ' to learn more about interactive tables.';\n",
              "          element.innerHTML = '';\n",
              "          dataTable['output_type'] = 'display_data';\n",
              "          await google.colab.output.renderOutput(dataTable, element);\n",
              "          const docLink = document.createElement('div');\n",
              "          docLink.innerHTML = docLinkHtml;\n",
              "          element.appendChild(docLink);\n",
              "        }\n",
              "      </script>\n",
              "    </div>\n",
              "  </div>\n",
              "  "
            ]
          },
          "metadata": {},
          "execution_count": 2
        }
      ]
    },
    {
      "cell_type": "markdown",
      "source": [
        "### **Limpieza** de datos - *Formateo*\n",
        "Los datos cargados muestran formatos diferentes (entre str e int) y contienen caracteres en blanco, ya sea antes o despues de la cadena.\n",
        "1. Eliminado de los caracteres en blanco y estandarizando los **TIPOS DE DISCAPACIDAD**\n",
        "2. Estandarizando los tipos de discapacidad (Física e Intelectual) - Segun el MINSA\n",
        "3. Estandarizando los datos de **SISFHO**\n",
        "4. Estandarizando los datos de **INSTRUCCIÓN**\n",
        "5. Eliminando espacio de los nombres largos\n",
        "6. Estandarizando los datos de **NIVEL DE DISCAPACIDAD**"
      ],
      "metadata": {
        "id": "UEnodMqZlQEE"
      }
    },
    {
      "cell_type": "code",
      "source": [
        "# 1. Eliminado de los caracteres en blanco y estandarizando los TIPOS DE DISCAPACIDAD\n",
        "dataAll['TIPO DE DISCAPACIDAD'] = dataAll['TIPO DE DISCAPACIDAD'].str.strip()\n",
        "dataAll.groupby(['TIPO DE DISCAPACIDAD'])['TIPO DE DISCAPACIDAD'].count()"
      ],
      "metadata": {
        "colab": {
          "base_uri": "https://localhost:8080/"
        },
        "id": "m7MpjoYjlogy",
        "outputId": "bf1f68ae-11d9-4be6-c624-0ec1bce5004c"
      },
      "execution_count": 3,
      "outputs": [
        {
          "output_type": "execute_result",
          "data": {
            "text/plain": [
              "TIPO DE DISCAPACIDAD\n",
              "AUDITIVA                679\n",
              "AUTISMO EN LA NIÑEZ      27\n",
              "Auditiva                 47\n",
              "ESQUIZOFRENIA           265\n",
              "Esquizofrenia             2\n",
              "FÍSICA                 3492\n",
              "FÍsica                   23\n",
              "Física                  245\n",
              "INTELECTUAL            2522\n",
              "Intelectual             162\n",
              "LENGUAJE                160\n",
              "Lenguaje                 33\n",
              "VISUAL                  923\n",
              "Visual                  103\n",
              "Name: TIPO DE DISCAPACIDAD, dtype: int64"
            ]
          },
          "metadata": {},
          "execution_count": 3
        }
      ]
    },
    {
      "cell_type": "code",
      "source": [
        "# 2. Estandarizando los tipos de discapacidad (Física e Intelectual) - Segun el MINSA\n",
        "discfisica = ['AUDITIVA', 'Auditiva', 'FÍSICA', 'FÍsica', 'Física', 'LENGUAJE', 'Lenguaje', 'VISUAL', 'Visual']\n",
        "dataAll['DISCAPACIDAD'] = dataAll['TIPO DE DISCAPACIDAD'].apply(lambda x:'FÍSICA' if x in discfisica else 'INTELECTUAL')\n",
        "dataAll.groupby(['DISCAPACIDAD'])['DISCAPACIDAD'].count()"
      ],
      "metadata": {
        "colab": {
          "base_uri": "https://localhost:8080/"
        },
        "id": "za81iiKDloi7",
        "outputId": "1d04f776-09d4-4557-87d1-2618c901e85c"
      },
      "execution_count": 4,
      "outputs": [
        {
          "output_type": "execute_result",
          "data": {
            "text/plain": [
              "DISCAPACIDAD\n",
              "FÍSICA         5705\n",
              "INTELECTUAL    2978\n",
              "Name: DISCAPACIDAD, dtype: int64"
            ]
          },
          "metadata": {},
          "execution_count": 4
        }
      ]
    },
    {
      "cell_type": "code",
      "source": [
        "# 3. Estandarizando los datos de SISFHO\n",
        "dataAll['SISFHO'] = dataAll['SISFHO'].str.strip()\n",
        "dataAll.groupby(['SISFHO'])['SISFHO'].count()"
      ],
      "metadata": {
        "colab": {
          "base_uri": "https://localhost:8080/"
        },
        "id": "zBSb1VxMof8v",
        "outputId": "2b803e2c-9966-4b8e-a2b9-824040c47c5e"
      },
      "execution_count": 5,
      "outputs": [
        {
          "output_type": "execute_result",
          "data": {
            "text/plain": [
              "SISFHO\n",
              "NO POBRE          693\n",
              "No pobre            4\n",
              "POBRE            2555\n",
              "POBRE EXTREMO    5228\n",
              "Pobre              10\n",
              "Pobre Extremo       7\n",
              "Pobre extremo      26\n",
              "SOLICITAR CSE     157\n",
              "pobre               1\n",
              "pobre extremo       2\n",
              "Name: SISFHO, dtype: int64"
            ]
          },
          "metadata": {},
          "execution_count": 5
        }
      ]
    },
    {
      "cell_type": "code",
      "source": [
        "sisfhoNoPobre = ['NO POBRE', 'No pobre']\n",
        "sisfhoPobre = ['POBRE', 'Pobre', 'pobre']\n",
        "sisfhoPobreEx = ['POBRE EXTREMO', 'Pobre Extremo', 'Pobre extremo', 'pobre extremo']\n",
        "\n",
        "def condicionSisfho(x):\n",
        "  if x in sisfhoNoPobre:\n",
        "    return 'NO POBRE'\n",
        "  elif x in sisfhoPobre:\n",
        "    return 'POBRE'\n",
        "  elif x in sisfhoPobreEx:\n",
        "    return 'POBRE EXTREMO'\n",
        "  else:\n",
        "    return 'CSE'\n",
        "\n",
        "dataAll['SISFHO'] = dataAll['SISFHO'].apply(condicionSisfho)\n",
        "\n",
        "dataAll.groupby(['SISFHO'])['SISFHO'].count()"
      ],
      "metadata": {
        "colab": {
          "base_uri": "https://localhost:8080/"
        },
        "id": "kLhtWcYZouWo",
        "outputId": "72e4ddc0-95b0-4587-965e-247275369177"
      },
      "execution_count": 6,
      "outputs": [
        {
          "output_type": "execute_result",
          "data": {
            "text/plain": [
              "SISFHO\n",
              "CSE               157\n",
              "NO POBRE          697\n",
              "POBRE            2566\n",
              "POBRE EXTREMO    5263\n",
              "Name: SISFHO, dtype: int64"
            ]
          },
          "metadata": {},
          "execution_count": 6
        }
      ]
    },
    {
      "cell_type": "code",
      "source": [
        "# 4. Estandarizando los datos de INSTRUCCION\n",
        "dataAll['INSTRUCCION'] = dataAll['INSTRUCCION'].str.strip()\n",
        "dataAll.groupby(['INSTRUCCION'])['INSTRUCCION'].count()"
      ],
      "metadata": {
        "colab": {
          "base_uri": "https://localhost:8080/"
        },
        "id": "8ZMfLDJso-UI",
        "outputId": "e9396a2b-e56a-4afa-93ec-e6f587b07bbd"
      },
      "execution_count": 7,
      "outputs": [
        {
          "output_type": "execute_result",
          "data": {
            "text/plain": [
              "INSTRUCCION\n",
              "INICIAL                   153\n",
              "NINGUNO                  3996\n",
              "Ninguno                   184\n",
              "PRIMARIA COMPLETA         834\n",
              "PRIMARIA INCOMPLETA      1780\n",
              "Primaria completa         191\n",
              "Primaria incompleta        78\n",
              "SECUNDARIA COMPLETA       484\n",
              "SECUNDARIA INCOMPLETA     604\n",
              "SECUNDARIA cOMPLETA         1\n",
              "SUPERIOR                  228\n",
              "Secundaria completa        67\n",
              "Secundaria incompleta      41\n",
              "Superior                   12\n",
              "TÉCNICO                    27\n",
              "Técnico                     2\n",
              "primaria completa           1\n",
              "Name: INSTRUCCION, dtype: int64"
            ]
          },
          "metadata": {},
          "execution_count": 7
        }
      ]
    },
    {
      "cell_type": "code",
      "source": [
        "def condicionInstruccion(x):\n",
        "  if x in ['INICIAL']:\n",
        "    return 'INICIAL'\n",
        "  if x in ['PRIMARIA INCOMPLETA', 'Primaria incompleta']:\n",
        "    return 'PRIM INCOMPLETA'\n",
        "  elif x in ['PRIMARIA COMPLETA', 'Primaria completa', 'primaria completa']:\n",
        "    return 'PRIM COMPLETA'\n",
        "  elif x in ['SECUNDARIA INCOMPLETA', 'Secundaria incompleta']:\n",
        "    return 'SEC INCOMPLETA'\n",
        "  elif x in ['SECUNDARIA COMPLETA', 'SECUNDARIA COMPLETA', 'SECUNDARIA cOMPLETA', 'Secundaria completa']:\n",
        "    return 'SEC COMPLETA'\n",
        "  elif x in ['SUPERIOR', 'Superior', 'TÉCNICO', 'Técnico']:\n",
        "    return 'SUPERIOR'\n",
        "  else:\n",
        "    return 'NINGUNO'\n",
        "\n",
        "dataAll['INSTRUCCION'] = dataAll['INSTRUCCION'].apply(condicionInstruccion)\n",
        "\n",
        "dataAll.groupby(['INSTRUCCION'])['INSTRUCCION'].count()"
      ],
      "metadata": {
        "colab": {
          "base_uri": "https://localhost:8080/"
        },
        "id": "qebVnsY-o-W0",
        "outputId": "0a096b3d-1a1f-4b08-bb73-e466e49c71e1"
      },
      "execution_count": 8,
      "outputs": [
        {
          "output_type": "execute_result",
          "data": {
            "text/plain": [
              "INSTRUCCION\n",
              "INICIAL             153\n",
              "NINGUNO            4180\n",
              "PRIM COMPLETA      1026\n",
              "PRIM INCOMPLETA    1858\n",
              "SEC COMPLETA        552\n",
              "SEC INCOMPLETA      645\n",
              "SUPERIOR            269\n",
              "Name: INSTRUCCION, dtype: int64"
            ]
          },
          "metadata": {},
          "execution_count": 8
        }
      ]
    },
    {
      "cell_type": "code",
      "source": [
        "# 5. Eliminando espacio de los nombres largos\n",
        "dataAll.rename(columns = {'TIPO DE DISCAPACIDAD':'TIPO_DISCAPACIDAD',\n",
        "                          'NIVEL DE DISCAPACIDAD':'NIVEL_DISCAPACIDAD'}, inplace = True)"
      ],
      "metadata": {
        "id": "MNLyRC6fqmAk"
      },
      "execution_count": 9,
      "outputs": []
    },
    {
      "cell_type": "code",
      "source": [
        "dataAll.info()"
      ],
      "metadata": {
        "colab": {
          "base_uri": "https://localhost:8080/"
        },
        "id": "8lPBU0J0qAss",
        "outputId": "b5aca40b-14f5-4281-cacc-999e3e7138a3"
      },
      "execution_count": 10,
      "outputs": [
        {
          "output_type": "stream",
          "name": "stdout",
          "text": [
            "<class 'pandas.core.frame.DataFrame'>\n",
            "RangeIndex: 8683 entries, 0 to 8682\n",
            "Data columns (total 16 columns):\n",
            " #   Column              Non-Null Count  Dtype \n",
            "---  ------              --------------  ----- \n",
            " 0   Unnamed: 0          8683 non-null   int64 \n",
            " 1   SEXO                8683 non-null   object\n",
            " 2   NACDIA              8683 non-null   int64 \n",
            " 3   NACMES              8683 non-null   int64 \n",
            " 4   NACANIO             8683 non-null   int64 \n",
            " 5   SISFHO              8683 non-null   object\n",
            " 6   CERTIFICADO         7349 non-null   object\n",
            " 7   TIPO_DISCAPACIDAD   8683 non-null   object\n",
            " 8   NIVEL_DISCAPACIDAD  8683 non-null   object\n",
            " 9   CONADIS             6199 non-null   object\n",
            " 10  DEPARTAMENTO        8683 non-null   object\n",
            " 11  PROVINCIA           8683 non-null   object\n",
            " 12  DISTRITO            8683 non-null   object\n",
            " 13  EDAD                8683 non-null   int64 \n",
            " 14  INSTRUCCION         8683 non-null   object\n",
            " 15  DISCAPACIDAD        8683 non-null   object\n",
            "dtypes: int64(5), object(11)\n",
            "memory usage: 1.1+ MB\n"
          ]
        }
      ]
    },
    {
      "cell_type": "code",
      "source": [
        "# 6. Estandarizando los datos de NIVEL DE DISCAPACIDAD\n",
        "dataAll['NIVEL_DISCAPACIDAD'] = dataAll['NIVEL_DISCAPACIDAD'].str.strip()\n",
        "dataAll.groupby(['NIVEL_DISCAPACIDAD'])['NIVEL_DISCAPACIDAD'].count()"
      ],
      "metadata": {
        "colab": {
          "base_uri": "https://localhost:8080/"
        },
        "id": "rio3K5ls3TwT",
        "outputId": "780eb4aa-172c-4d7f-e30f-b117309334dd"
      },
      "execution_count": 11,
      "outputs": [
        {
          "output_type": "execute_result",
          "data": {
            "text/plain": [
              "NIVEL_DISCAPACIDAD\n",
              "LEVE         634\n",
              "Leve          12\n",
              "MODERADA    2567\n",
              "Moderada      32\n",
              "SEVERA      5384\n",
              "Severa        49\n",
              "severa         5\n",
              "Name: NIVEL_DISCAPACIDAD, dtype: int64"
            ]
          },
          "metadata": {},
          "execution_count": 11
        }
      ]
    },
    {
      "cell_type": "code",
      "source": [
        "def condicionNivelDiscapacidad(x):\n",
        "  if x in ['LEVE', 'Leve', 'leve']:\n",
        "    return 'LEVE'\n",
        "  elif x in ['MODERADA', 'Moderada', 'noderada']:\n",
        "    return 'MODERADA'\n",
        "  else:\n",
        "    return 'SEVERA'\n",
        "\n",
        "dataAll['NIVEL_DISCAPACIDAD'] = dataAll['NIVEL_DISCAPACIDAD'].apply(condicionNivelDiscapacidad)\n",
        "\n",
        "dataAll.groupby(['NIVEL_DISCAPACIDAD'])['NIVEL_DISCAPACIDAD'].count()"
      ],
      "metadata": {
        "colab": {
          "base_uri": "https://localhost:8080/"
        },
        "id": "WnrbzTce3v3K",
        "outputId": "16b9b3cc-13c7-4c48-edc7-76b9165f9e2a"
      },
      "execution_count": 12,
      "outputs": [
        {
          "output_type": "execute_result",
          "data": {
            "text/plain": [
              "NIVEL_DISCAPACIDAD\n",
              "LEVE         646\n",
              "MODERADA    2599\n",
              "SEVERA      5438\n",
              "Name: NIVEL_DISCAPACIDAD, dtype: int64"
            ]
          },
          "metadata": {},
          "execution_count": 12
        }
      ]
    },
    {
      "cell_type": "markdown",
      "source": [
        "## 2. Asignando **UBIGEO** Distrito\n",
        "Realizar la carga de código de UBIGEO según el **INEI** y realizando el cruce con los distritos motivo del estudio de la *Región de Ayacucho*"
      ],
      "metadata": {
        "id": "_wRjv8JwlStL"
      }
    },
    {
      "cell_type": "markdown",
      "source": [
        "### Lectura de la lista de UBIGEO"
      ],
      "metadata": {
        "id": "3WtsmDLxadFH"
      }
    },
    {
      "cell_type": "code",
      "source": [
        "dataUbigeo = pd.read_excel(path + 'UBIGEOAyacucho.xlsx')\n",
        "dataUbigeo.rename(columns = {'CODIGO DEPARTAMENTO':'COD_DEPA', 'CODIGO PROVINCIA':'COD_PROV', 'CODIGO DISTRITO':'COD_DIST'}, inplace = True)\n",
        "dataUbigeo.head()"
      ],
      "metadata": {
        "id": "hjJyqpYTS6gb",
        "colab": {
          "base_uri": "https://localhost:8080/",
          "height": 288
        },
        "outputId": "d787dbb2-ccaf-42c0-d662-538daa9fcbd5"
      },
      "execution_count": 13,
      "outputs": [
        {
          "output_type": "execute_result",
          "data": {
            "text/plain": [
              "   UBIGEO  COD_DEPA  COD_PROV  COD_DIST  DENOMINACION DEPARTAMENTO PROVINCIA  \\\n",
              "0   50000         5         0         0      AYACUCHO     AYACUCHO       NaN   \n",
              "1   50100         5         1         0      HUAMANGA     AYACUCHO  HUAMANGA   \n",
              "2   50101         5         1         1      AYACUCHO     AYACUCHO  HUAMANGA   \n",
              "3   50102         5         1         2        ACOCRO     AYACUCHO  HUAMANGA   \n",
              "4   50103         5         1         3  ACOS VINCHOS     AYACUCHO  HUAMANGA   \n",
              "\n",
              "       DISTRITO  \n",
              "0           NaN  \n",
              "1           NaN  \n",
              "2      AYACUCHO  \n",
              "3        ACOCRO  \n",
              "4  ACOS VINCHOS  "
            ],
            "text/html": [
              "\n",
              "  <div id=\"df-5dad7b73-7ea3-4ef6-ae14-6ddca246b6da\">\n",
              "    <div class=\"colab-df-container\">\n",
              "      <div>\n",
              "<style scoped>\n",
              "    .dataframe tbody tr th:only-of-type {\n",
              "        vertical-align: middle;\n",
              "    }\n",
              "\n",
              "    .dataframe tbody tr th {\n",
              "        vertical-align: top;\n",
              "    }\n",
              "\n",
              "    .dataframe thead th {\n",
              "        text-align: right;\n",
              "    }\n",
              "</style>\n",
              "<table border=\"1\" class=\"dataframe\">\n",
              "  <thead>\n",
              "    <tr style=\"text-align: right;\">\n",
              "      <th></th>\n",
              "      <th>UBIGEO</th>\n",
              "      <th>COD_DEPA</th>\n",
              "      <th>COD_PROV</th>\n",
              "      <th>COD_DIST</th>\n",
              "      <th>DENOMINACION</th>\n",
              "      <th>DEPARTAMENTO</th>\n",
              "      <th>PROVINCIA</th>\n",
              "      <th>DISTRITO</th>\n",
              "    </tr>\n",
              "  </thead>\n",
              "  <tbody>\n",
              "    <tr>\n",
              "      <th>0</th>\n",
              "      <td>50000</td>\n",
              "      <td>5</td>\n",
              "      <td>0</td>\n",
              "      <td>0</td>\n",
              "      <td>AYACUCHO</td>\n",
              "      <td>AYACUCHO</td>\n",
              "      <td>NaN</td>\n",
              "      <td>NaN</td>\n",
              "    </tr>\n",
              "    <tr>\n",
              "      <th>1</th>\n",
              "      <td>50100</td>\n",
              "      <td>5</td>\n",
              "      <td>1</td>\n",
              "      <td>0</td>\n",
              "      <td>HUAMANGA</td>\n",
              "      <td>AYACUCHO</td>\n",
              "      <td>HUAMANGA</td>\n",
              "      <td>NaN</td>\n",
              "    </tr>\n",
              "    <tr>\n",
              "      <th>2</th>\n",
              "      <td>50101</td>\n",
              "      <td>5</td>\n",
              "      <td>1</td>\n",
              "      <td>1</td>\n",
              "      <td>AYACUCHO</td>\n",
              "      <td>AYACUCHO</td>\n",
              "      <td>HUAMANGA</td>\n",
              "      <td>AYACUCHO</td>\n",
              "    </tr>\n",
              "    <tr>\n",
              "      <th>3</th>\n",
              "      <td>50102</td>\n",
              "      <td>5</td>\n",
              "      <td>1</td>\n",
              "      <td>2</td>\n",
              "      <td>ACOCRO</td>\n",
              "      <td>AYACUCHO</td>\n",
              "      <td>HUAMANGA</td>\n",
              "      <td>ACOCRO</td>\n",
              "    </tr>\n",
              "    <tr>\n",
              "      <th>4</th>\n",
              "      <td>50103</td>\n",
              "      <td>5</td>\n",
              "      <td>1</td>\n",
              "      <td>3</td>\n",
              "      <td>ACOS VINCHOS</td>\n",
              "      <td>AYACUCHO</td>\n",
              "      <td>HUAMANGA</td>\n",
              "      <td>ACOS VINCHOS</td>\n",
              "    </tr>\n",
              "  </tbody>\n",
              "</table>\n",
              "</div>\n",
              "      <button class=\"colab-df-convert\" onclick=\"convertToInteractive('df-5dad7b73-7ea3-4ef6-ae14-6ddca246b6da')\"\n",
              "              title=\"Convert this dataframe to an interactive table.\"\n",
              "              style=\"display:none;\">\n",
              "        \n",
              "  <svg xmlns=\"http://www.w3.org/2000/svg\" height=\"24px\"viewBox=\"0 0 24 24\"\n",
              "       width=\"24px\">\n",
              "    <path d=\"M0 0h24v24H0V0z\" fill=\"none\"/>\n",
              "    <path d=\"M18.56 5.44l.94 2.06.94-2.06 2.06-.94-2.06-.94-.94-2.06-.94 2.06-2.06.94zm-11 1L8.5 8.5l.94-2.06 2.06-.94-2.06-.94L8.5 2.5l-.94 2.06-2.06.94zm10 10l.94 2.06.94-2.06 2.06-.94-2.06-.94-.94-2.06-.94 2.06-2.06.94z\"/><path d=\"M17.41 7.96l-1.37-1.37c-.4-.4-.92-.59-1.43-.59-.52 0-1.04.2-1.43.59L10.3 9.45l-7.72 7.72c-.78.78-.78 2.05 0 2.83L4 21.41c.39.39.9.59 1.41.59.51 0 1.02-.2 1.41-.59l7.78-7.78 2.81-2.81c.8-.78.8-2.07 0-2.86zM5.41 20L4 18.59l7.72-7.72 1.47 1.35L5.41 20z\"/>\n",
              "  </svg>\n",
              "      </button>\n",
              "      \n",
              "  <style>\n",
              "    .colab-df-container {\n",
              "      display:flex;\n",
              "      flex-wrap:wrap;\n",
              "      gap: 12px;\n",
              "    }\n",
              "\n",
              "    .colab-df-convert {\n",
              "      background-color: #E8F0FE;\n",
              "      border: none;\n",
              "      border-radius: 50%;\n",
              "      cursor: pointer;\n",
              "      display: none;\n",
              "      fill: #1967D2;\n",
              "      height: 32px;\n",
              "      padding: 0 0 0 0;\n",
              "      width: 32px;\n",
              "    }\n",
              "\n",
              "    .colab-df-convert:hover {\n",
              "      background-color: #E2EBFA;\n",
              "      box-shadow: 0px 1px 2px rgba(60, 64, 67, 0.3), 0px 1px 3px 1px rgba(60, 64, 67, 0.15);\n",
              "      fill: #174EA6;\n",
              "    }\n",
              "\n",
              "    [theme=dark] .colab-df-convert {\n",
              "      background-color: #3B4455;\n",
              "      fill: #D2E3FC;\n",
              "    }\n",
              "\n",
              "    [theme=dark] .colab-df-convert:hover {\n",
              "      background-color: #434B5C;\n",
              "      box-shadow: 0px 1px 3px 1px rgba(0, 0, 0, 0.15);\n",
              "      filter: drop-shadow(0px 1px 2px rgba(0, 0, 0, 0.3));\n",
              "      fill: #FFFFFF;\n",
              "    }\n",
              "  </style>\n",
              "\n",
              "      <script>\n",
              "        const buttonEl =\n",
              "          document.querySelector('#df-5dad7b73-7ea3-4ef6-ae14-6ddca246b6da button.colab-df-convert');\n",
              "        buttonEl.style.display =\n",
              "          google.colab.kernel.accessAllowed ? 'block' : 'none';\n",
              "\n",
              "        async function convertToInteractive(key) {\n",
              "          const element = document.querySelector('#df-5dad7b73-7ea3-4ef6-ae14-6ddca246b6da');\n",
              "          const dataTable =\n",
              "            await google.colab.kernel.invokeFunction('convertToInteractive',\n",
              "                                                     [key], {});\n",
              "          if (!dataTable) return;\n",
              "\n",
              "          const docLinkHtml = 'Like what you see? Visit the ' +\n",
              "            '<a target=\"_blank\" href=https://colab.research.google.com/notebooks/data_table.ipynb>data table notebook</a>'\n",
              "            + ' to learn more about interactive tables.';\n",
              "          element.innerHTML = '';\n",
              "          dataTable['output_type'] = 'display_data';\n",
              "          await google.colab.output.renderOutput(dataTable, element);\n",
              "          const docLink = document.createElement('div');\n",
              "          docLink.innerHTML = docLinkHtml;\n",
              "          element.appendChild(docLink);\n",
              "        }\n",
              "      </script>\n",
              "    </div>\n",
              "  </div>\n",
              "  "
            ]
          },
          "metadata": {},
          "execution_count": 13
        }
      ]
    },
    {
      "cell_type": "markdown",
      "source": [
        "### Formateo y **emparejamiento** del UBIGEO con el data de las PCDs"
      ],
      "metadata": {
        "id": "XuIkxHioamtd"
      }
    },
    {
      "cell_type": "code",
      "source": [
        "dataAllUbigeo = pd.merge(dataAll, dataUbigeo, on='DISTRITO').drop(columns=['DENOMINACION', 'DEPARTAMENTO_y', 'PROVINCIA_y'])\n",
        "dataAllUbigeo.rename(columns = {'DEPARTAMENTO_x':'DEPARTAMENTO', 'PROVINCIA_x':'PROVINCIA'}, inplace = True)\n",
        "\n",
        "dataAllUbigeo['DEPARTAMENTO'] = dataAllUbigeo['DEPARTAMENTO'].str.strip()\n",
        "dataAllUbigeo['PROVINCIA'] = dataAllUbigeo['PROVINCIA'].str.strip()\n",
        "dataAllUbigeo['DISTRITO'] = dataAllUbigeo['DISTRITO'].str.strip()\n",
        "\n",
        "dataAllUbigeo.columns"
      ],
      "metadata": {
        "id": "K96u2WrP4_gA",
        "colab": {
          "base_uri": "https://localhost:8080/"
        },
        "outputId": "4cfb0083-4bc6-4791-f230-f0b9feaa370d"
      },
      "execution_count": 14,
      "outputs": [
        {
          "output_type": "execute_result",
          "data": {
            "text/plain": [
              "Index(['Unnamed: 0', 'SEXO', 'NACDIA', 'NACMES', 'NACANIO', 'SISFHO',\n",
              "       'CERTIFICADO', 'TIPO_DISCAPACIDAD', 'NIVEL_DISCAPACIDAD', 'CONADIS',\n",
              "       'DEPARTAMENTO', 'PROVINCIA', 'DISTRITO', 'EDAD', 'INSTRUCCION',\n",
              "       'DISCAPACIDAD', 'UBIGEO', 'COD_DEPA', 'COD_PROV', 'COD_DIST'],\n",
              "      dtype='object')"
            ]
          },
          "metadata": {},
          "execution_count": 14
        }
      ]
    },
    {
      "cell_type": "code",
      "source": [
        "dataAllUbigeo.head()"
      ],
      "metadata": {
        "id": "wlV_Euqj8tUh",
        "colab": {
          "base_uri": "https://localhost:8080/",
          "height": 340
        },
        "outputId": "657dc89a-6a6e-4fe9-8899-b7768c580e1a"
      },
      "execution_count": 15,
      "outputs": [
        {
          "output_type": "execute_result",
          "data": {
            "text/plain": [
              "   Unnamed: 0 SEXO  NACDIA  NACMES  NACANIO         SISFHO CERTIFICADO  \\\n",
              "0           0    M      27       3     1988          POBRE           X   \n",
              "1           1    M      16       7     1993          POBRE           X   \n",
              "2           2    F      20       5     1940  POBRE EXTREMO           X   \n",
              "3           3    F       9       3     2017          POBRE           X   \n",
              "4           4    M      20       2     1972  POBRE EXTREMO           X   \n",
              "\n",
              "  TIPO_DISCAPACIDAD NIVEL_DISCAPACIDAD CONADIS DEPARTAMENTO PROVINCIA  \\\n",
              "0       INTELECTUAL             SEVERA       X     AYACUCHO     SUCRE   \n",
              "1            FÍSICA             SEVERA       X     AYACUCHO     SUCRE   \n",
              "2       INTELECTUAL             SEVERA       X     AYACUCHO     SUCRE   \n",
              "3            FÍSICA             SEVERA       X     AYACUCHO     SUCRE   \n",
              "4       INTELECTUAL             SEVERA       X     AYACUCHO     SUCRE   \n",
              "\n",
              "    DISTRITO  EDAD      INSTRUCCION DISCAPACIDAD  UBIGEO  COD_DEPA  COD_PROV  \\\n",
              "0  CHILCAYOC    35          NINGUNO  INTELECTUAL   50904         5         9   \n",
              "1  CHILCAYOC    30     SEC COMPLETA       FÍSICA   50904         5         9   \n",
              "2  CHILCAYOC    83          NINGUNO  INTELECTUAL   50904         5         9   \n",
              "3  CHILCAYOC     6          INICIAL       FÍSICA   50904         5         9   \n",
              "4  CHILCAYOC    51  PRIM INCOMPLETA  INTELECTUAL   50904         5         9   \n",
              "\n",
              "   COD_DIST  \n",
              "0         4  \n",
              "1         4  \n",
              "2         4  \n",
              "3         4  \n",
              "4         4  "
            ],
            "text/html": [
              "\n",
              "  <div id=\"df-b67f8283-8a7f-431a-8f8c-d917b4dc6ded\">\n",
              "    <div class=\"colab-df-container\">\n",
              "      <div>\n",
              "<style scoped>\n",
              "    .dataframe tbody tr th:only-of-type {\n",
              "        vertical-align: middle;\n",
              "    }\n",
              "\n",
              "    .dataframe tbody tr th {\n",
              "        vertical-align: top;\n",
              "    }\n",
              "\n",
              "    .dataframe thead th {\n",
              "        text-align: right;\n",
              "    }\n",
              "</style>\n",
              "<table border=\"1\" class=\"dataframe\">\n",
              "  <thead>\n",
              "    <tr style=\"text-align: right;\">\n",
              "      <th></th>\n",
              "      <th>Unnamed: 0</th>\n",
              "      <th>SEXO</th>\n",
              "      <th>NACDIA</th>\n",
              "      <th>NACMES</th>\n",
              "      <th>NACANIO</th>\n",
              "      <th>SISFHO</th>\n",
              "      <th>CERTIFICADO</th>\n",
              "      <th>TIPO_DISCAPACIDAD</th>\n",
              "      <th>NIVEL_DISCAPACIDAD</th>\n",
              "      <th>CONADIS</th>\n",
              "      <th>DEPARTAMENTO</th>\n",
              "      <th>PROVINCIA</th>\n",
              "      <th>DISTRITO</th>\n",
              "      <th>EDAD</th>\n",
              "      <th>INSTRUCCION</th>\n",
              "      <th>DISCAPACIDAD</th>\n",
              "      <th>UBIGEO</th>\n",
              "      <th>COD_DEPA</th>\n",
              "      <th>COD_PROV</th>\n",
              "      <th>COD_DIST</th>\n",
              "    </tr>\n",
              "  </thead>\n",
              "  <tbody>\n",
              "    <tr>\n",
              "      <th>0</th>\n",
              "      <td>0</td>\n",
              "      <td>M</td>\n",
              "      <td>27</td>\n",
              "      <td>3</td>\n",
              "      <td>1988</td>\n",
              "      <td>POBRE</td>\n",
              "      <td>X</td>\n",
              "      <td>INTELECTUAL</td>\n",
              "      <td>SEVERA</td>\n",
              "      <td>X</td>\n",
              "      <td>AYACUCHO</td>\n",
              "      <td>SUCRE</td>\n",
              "      <td>CHILCAYOC</td>\n",
              "      <td>35</td>\n",
              "      <td>NINGUNO</td>\n",
              "      <td>INTELECTUAL</td>\n",
              "      <td>50904</td>\n",
              "      <td>5</td>\n",
              "      <td>9</td>\n",
              "      <td>4</td>\n",
              "    </tr>\n",
              "    <tr>\n",
              "      <th>1</th>\n",
              "      <td>1</td>\n",
              "      <td>M</td>\n",
              "      <td>16</td>\n",
              "      <td>7</td>\n",
              "      <td>1993</td>\n",
              "      <td>POBRE</td>\n",
              "      <td>X</td>\n",
              "      <td>FÍSICA</td>\n",
              "      <td>SEVERA</td>\n",
              "      <td>X</td>\n",
              "      <td>AYACUCHO</td>\n",
              "      <td>SUCRE</td>\n",
              "      <td>CHILCAYOC</td>\n",
              "      <td>30</td>\n",
              "      <td>SEC COMPLETA</td>\n",
              "      <td>FÍSICA</td>\n",
              "      <td>50904</td>\n",
              "      <td>5</td>\n",
              "      <td>9</td>\n",
              "      <td>4</td>\n",
              "    </tr>\n",
              "    <tr>\n",
              "      <th>2</th>\n",
              "      <td>2</td>\n",
              "      <td>F</td>\n",
              "      <td>20</td>\n",
              "      <td>5</td>\n",
              "      <td>1940</td>\n",
              "      <td>POBRE EXTREMO</td>\n",
              "      <td>X</td>\n",
              "      <td>INTELECTUAL</td>\n",
              "      <td>SEVERA</td>\n",
              "      <td>X</td>\n",
              "      <td>AYACUCHO</td>\n",
              "      <td>SUCRE</td>\n",
              "      <td>CHILCAYOC</td>\n",
              "      <td>83</td>\n",
              "      <td>NINGUNO</td>\n",
              "      <td>INTELECTUAL</td>\n",
              "      <td>50904</td>\n",
              "      <td>5</td>\n",
              "      <td>9</td>\n",
              "      <td>4</td>\n",
              "    </tr>\n",
              "    <tr>\n",
              "      <th>3</th>\n",
              "      <td>3</td>\n",
              "      <td>F</td>\n",
              "      <td>9</td>\n",
              "      <td>3</td>\n",
              "      <td>2017</td>\n",
              "      <td>POBRE</td>\n",
              "      <td>X</td>\n",
              "      <td>FÍSICA</td>\n",
              "      <td>SEVERA</td>\n",
              "      <td>X</td>\n",
              "      <td>AYACUCHO</td>\n",
              "      <td>SUCRE</td>\n",
              "      <td>CHILCAYOC</td>\n",
              "      <td>6</td>\n",
              "      <td>INICIAL</td>\n",
              "      <td>FÍSICA</td>\n",
              "      <td>50904</td>\n",
              "      <td>5</td>\n",
              "      <td>9</td>\n",
              "      <td>4</td>\n",
              "    </tr>\n",
              "    <tr>\n",
              "      <th>4</th>\n",
              "      <td>4</td>\n",
              "      <td>M</td>\n",
              "      <td>20</td>\n",
              "      <td>2</td>\n",
              "      <td>1972</td>\n",
              "      <td>POBRE EXTREMO</td>\n",
              "      <td>X</td>\n",
              "      <td>INTELECTUAL</td>\n",
              "      <td>SEVERA</td>\n",
              "      <td>X</td>\n",
              "      <td>AYACUCHO</td>\n",
              "      <td>SUCRE</td>\n",
              "      <td>CHILCAYOC</td>\n",
              "      <td>51</td>\n",
              "      <td>PRIM INCOMPLETA</td>\n",
              "      <td>INTELECTUAL</td>\n",
              "      <td>50904</td>\n",
              "      <td>5</td>\n",
              "      <td>9</td>\n",
              "      <td>4</td>\n",
              "    </tr>\n",
              "  </tbody>\n",
              "</table>\n",
              "</div>\n",
              "      <button class=\"colab-df-convert\" onclick=\"convertToInteractive('df-b67f8283-8a7f-431a-8f8c-d917b4dc6ded')\"\n",
              "              title=\"Convert this dataframe to an interactive table.\"\n",
              "              style=\"display:none;\">\n",
              "        \n",
              "  <svg xmlns=\"http://www.w3.org/2000/svg\" height=\"24px\"viewBox=\"0 0 24 24\"\n",
              "       width=\"24px\">\n",
              "    <path d=\"M0 0h24v24H0V0z\" fill=\"none\"/>\n",
              "    <path d=\"M18.56 5.44l.94 2.06.94-2.06 2.06-.94-2.06-.94-.94-2.06-.94 2.06-2.06.94zm-11 1L8.5 8.5l.94-2.06 2.06-.94-2.06-.94L8.5 2.5l-.94 2.06-2.06.94zm10 10l.94 2.06.94-2.06 2.06-.94-2.06-.94-.94-2.06-.94 2.06-2.06.94z\"/><path d=\"M17.41 7.96l-1.37-1.37c-.4-.4-.92-.59-1.43-.59-.52 0-1.04.2-1.43.59L10.3 9.45l-7.72 7.72c-.78.78-.78 2.05 0 2.83L4 21.41c.39.39.9.59 1.41.59.51 0 1.02-.2 1.41-.59l7.78-7.78 2.81-2.81c.8-.78.8-2.07 0-2.86zM5.41 20L4 18.59l7.72-7.72 1.47 1.35L5.41 20z\"/>\n",
              "  </svg>\n",
              "      </button>\n",
              "      \n",
              "  <style>\n",
              "    .colab-df-container {\n",
              "      display:flex;\n",
              "      flex-wrap:wrap;\n",
              "      gap: 12px;\n",
              "    }\n",
              "\n",
              "    .colab-df-convert {\n",
              "      background-color: #E8F0FE;\n",
              "      border: none;\n",
              "      border-radius: 50%;\n",
              "      cursor: pointer;\n",
              "      display: none;\n",
              "      fill: #1967D2;\n",
              "      height: 32px;\n",
              "      padding: 0 0 0 0;\n",
              "      width: 32px;\n",
              "    }\n",
              "\n",
              "    .colab-df-convert:hover {\n",
              "      background-color: #E2EBFA;\n",
              "      box-shadow: 0px 1px 2px rgba(60, 64, 67, 0.3), 0px 1px 3px 1px rgba(60, 64, 67, 0.15);\n",
              "      fill: #174EA6;\n",
              "    }\n",
              "\n",
              "    [theme=dark] .colab-df-convert {\n",
              "      background-color: #3B4455;\n",
              "      fill: #D2E3FC;\n",
              "    }\n",
              "\n",
              "    [theme=dark] .colab-df-convert:hover {\n",
              "      background-color: #434B5C;\n",
              "      box-shadow: 0px 1px 3px 1px rgba(0, 0, 0, 0.15);\n",
              "      filter: drop-shadow(0px 1px 2px rgba(0, 0, 0, 0.3));\n",
              "      fill: #FFFFFF;\n",
              "    }\n",
              "  </style>\n",
              "\n",
              "      <script>\n",
              "        const buttonEl =\n",
              "          document.querySelector('#df-b67f8283-8a7f-431a-8f8c-d917b4dc6ded button.colab-df-convert');\n",
              "        buttonEl.style.display =\n",
              "          google.colab.kernel.accessAllowed ? 'block' : 'none';\n",
              "\n",
              "        async function convertToInteractive(key) {\n",
              "          const element = document.querySelector('#df-b67f8283-8a7f-431a-8f8c-d917b4dc6ded');\n",
              "          const dataTable =\n",
              "            await google.colab.kernel.invokeFunction('convertToInteractive',\n",
              "                                                     [key], {});\n",
              "          if (!dataTable) return;\n",
              "\n",
              "          const docLinkHtml = 'Like what you see? Visit the ' +\n",
              "            '<a target=\"_blank\" href=https://colab.research.google.com/notebooks/data_table.ipynb>data table notebook</a>'\n",
              "            + ' to learn more about interactive tables.';\n",
              "          element.innerHTML = '';\n",
              "          dataTable['output_type'] = 'display_data';\n",
              "          await google.colab.output.renderOutput(dataTable, element);\n",
              "          const docLink = document.createElement('div');\n",
              "          docLink.innerHTML = docLinkHtml;\n",
              "          element.appendChild(docLink);\n",
              "        }\n",
              "      </script>\n",
              "    </div>\n",
              "  </div>\n",
              "  "
            ]
          },
          "metadata": {},
          "execution_count": 15
        }
      ]
    },
    {
      "cell_type": "code",
      "source": [
        "dataAllUbigeo.groupby(['COD_PROV','PROVINCIA'])['COD_PROV'].count()"
      ],
      "metadata": {
        "colab": {
          "base_uri": "https://localhost:8080/"
        },
        "id": "CbM_jWHtytAE",
        "outputId": "82bbaf54-c1cb-4bac-d593-a0702599cbd6"
      },
      "execution_count": 16,
      "outputs": [
        {
          "output_type": "execute_result",
          "data": {
            "text/plain": [
              "COD_PROV  PROVINCIA     \n",
              "1         HUAMANGA          2702\n",
              "2         CANGALLO           911\n",
              "3         HUANCA SANCOS      417\n",
              "4         HUANTA            1103\n",
              "5         LA MAR            1701\n",
              "6         HUANCA SANCOS      138\n",
              "          LUCANAS            359\n",
              "9         SUCRE              330\n",
              "10        VICTOR FAJARDO     497\n",
              "11        VILCAS HUAMAN      576\n",
              "Name: COD_PROV, dtype: int64"
            ]
          },
          "metadata": {},
          "execution_count": 16
        }
      ]
    },
    {
      "cell_type": "code",
      "source": [
        "dataAllUbigeo.groupby(['UBIGEO','DISTRITO'])['UBIGEO'].count()"
      ],
      "metadata": {
        "colab": {
          "base_uri": "https://localhost:8080/"
        },
        "id": "j8vG46cAvTRv",
        "outputId": "c685d282-ff4a-4ee3-af61-3b827fb3c114"
      },
      "execution_count": 17,
      "outputs": [
        {
          "output_type": "execute_result",
          "data": {
            "text/plain": [
              "UBIGEO  DISTRITO   \n",
              "50101   AYACUCHO       545\n",
              "50102   ACOCRO         135\n",
              "50104   CARMEN ALTO    187\n",
              "50105   CHIARA         168\n",
              "50106   OCROS          116\n",
              "                      ... \n",
              "51103   CARHUANCA       40\n",
              "51104   CONCEPCION      59\n",
              "51105   HUAMBALPA       50\n",
              "51107   SAURAMA         53\n",
              "51108   VISCHONGO       93\n",
              "Name: UBIGEO, Length: 81, dtype: int64"
            ]
          },
          "metadata": {},
          "execution_count": 17
        }
      ]
    },
    {
      "cell_type": "markdown",
      "source": [
        "## 3. Análisis por **Edad** de PCDs **Hombres Vs Mujeres**"
      ],
      "metadata": {
        "id": "7A7SObd5vttw"
      }
    },
    {
      "cell_type": "markdown",
      "source": [
        "### Análisis de datos por Tipo de Discapacidad y Sexo\n",
        "Realiza un análisis de los tipos de discapacidad y la incidencia entre **Varones** y **Mujeres**"
      ],
      "metadata": {
        "id": "wL9ao7OnePxW"
      }
    },
    {
      "cell_type": "code",
      "source": [
        "pd.crosstab(dataAllUbigeo.SEXO, dataAllUbigeo.DISCAPACIDAD, margins=True, margins_name='Total')"
      ],
      "metadata": {
        "colab": {
          "base_uri": "https://localhost:8080/",
          "height": 239
        },
        "id": "oqlaT2_WNvpB",
        "outputId": "b8331695-7f52-4940-c384-1f778ab944cc"
      },
      "execution_count": 18,
      "outputs": [
        {
          "output_type": "execute_result",
          "data": {
            "text/plain": [
              "DISCAPACIDAD  FÍSICA  INTELECTUAL  Total\n",
              "SEXO                                    \n",
              "F               2579         1337   3916\n",
              "M               3190         1628   4818\n",
              "Total           5769         2965   8734"
            ],
            "text/html": [
              "\n",
              "  <div id=\"df-75e61ed4-a4b9-41b9-b5d7-c2d51a7ccef2\">\n",
              "    <div class=\"colab-df-container\">\n",
              "      <div>\n",
              "<style scoped>\n",
              "    .dataframe tbody tr th:only-of-type {\n",
              "        vertical-align: middle;\n",
              "    }\n",
              "\n",
              "    .dataframe tbody tr th {\n",
              "        vertical-align: top;\n",
              "    }\n",
              "\n",
              "    .dataframe thead th {\n",
              "        text-align: right;\n",
              "    }\n",
              "</style>\n",
              "<table border=\"1\" class=\"dataframe\">\n",
              "  <thead>\n",
              "    <tr style=\"text-align: right;\">\n",
              "      <th>DISCAPACIDAD</th>\n",
              "      <th>FÍSICA</th>\n",
              "      <th>INTELECTUAL</th>\n",
              "      <th>Total</th>\n",
              "    </tr>\n",
              "    <tr>\n",
              "      <th>SEXO</th>\n",
              "      <th></th>\n",
              "      <th></th>\n",
              "      <th></th>\n",
              "    </tr>\n",
              "  </thead>\n",
              "  <tbody>\n",
              "    <tr>\n",
              "      <th>F</th>\n",
              "      <td>2579</td>\n",
              "      <td>1337</td>\n",
              "      <td>3916</td>\n",
              "    </tr>\n",
              "    <tr>\n",
              "      <th>M</th>\n",
              "      <td>3190</td>\n",
              "      <td>1628</td>\n",
              "      <td>4818</td>\n",
              "    </tr>\n",
              "    <tr>\n",
              "      <th>Total</th>\n",
              "      <td>5769</td>\n",
              "      <td>2965</td>\n",
              "      <td>8734</td>\n",
              "    </tr>\n",
              "  </tbody>\n",
              "</table>\n",
              "</div>\n",
              "      <button class=\"colab-df-convert\" onclick=\"convertToInteractive('df-75e61ed4-a4b9-41b9-b5d7-c2d51a7ccef2')\"\n",
              "              title=\"Convert this dataframe to an interactive table.\"\n",
              "              style=\"display:none;\">\n",
              "        \n",
              "  <svg xmlns=\"http://www.w3.org/2000/svg\" height=\"24px\"viewBox=\"0 0 24 24\"\n",
              "       width=\"24px\">\n",
              "    <path d=\"M0 0h24v24H0V0z\" fill=\"none\"/>\n",
              "    <path d=\"M18.56 5.44l.94 2.06.94-2.06 2.06-.94-2.06-.94-.94-2.06-.94 2.06-2.06.94zm-11 1L8.5 8.5l.94-2.06 2.06-.94-2.06-.94L8.5 2.5l-.94 2.06-2.06.94zm10 10l.94 2.06.94-2.06 2.06-.94-2.06-.94-.94-2.06-.94 2.06-2.06.94z\"/><path d=\"M17.41 7.96l-1.37-1.37c-.4-.4-.92-.59-1.43-.59-.52 0-1.04.2-1.43.59L10.3 9.45l-7.72 7.72c-.78.78-.78 2.05 0 2.83L4 21.41c.39.39.9.59 1.41.59.51 0 1.02-.2 1.41-.59l7.78-7.78 2.81-2.81c.8-.78.8-2.07 0-2.86zM5.41 20L4 18.59l7.72-7.72 1.47 1.35L5.41 20z\"/>\n",
              "  </svg>\n",
              "      </button>\n",
              "      \n",
              "  <style>\n",
              "    .colab-df-container {\n",
              "      display:flex;\n",
              "      flex-wrap:wrap;\n",
              "      gap: 12px;\n",
              "    }\n",
              "\n",
              "    .colab-df-convert {\n",
              "      background-color: #E8F0FE;\n",
              "      border: none;\n",
              "      border-radius: 50%;\n",
              "      cursor: pointer;\n",
              "      display: none;\n",
              "      fill: #1967D2;\n",
              "      height: 32px;\n",
              "      padding: 0 0 0 0;\n",
              "      width: 32px;\n",
              "    }\n",
              "\n",
              "    .colab-df-convert:hover {\n",
              "      background-color: #E2EBFA;\n",
              "      box-shadow: 0px 1px 2px rgba(60, 64, 67, 0.3), 0px 1px 3px 1px rgba(60, 64, 67, 0.15);\n",
              "      fill: #174EA6;\n",
              "    }\n",
              "\n",
              "    [theme=dark] .colab-df-convert {\n",
              "      background-color: #3B4455;\n",
              "      fill: #D2E3FC;\n",
              "    }\n",
              "\n",
              "    [theme=dark] .colab-df-convert:hover {\n",
              "      background-color: #434B5C;\n",
              "      box-shadow: 0px 1px 3px 1px rgba(0, 0, 0, 0.15);\n",
              "      filter: drop-shadow(0px 1px 2px rgba(0, 0, 0, 0.3));\n",
              "      fill: #FFFFFF;\n",
              "    }\n",
              "  </style>\n",
              "\n",
              "      <script>\n",
              "        const buttonEl =\n",
              "          document.querySelector('#df-75e61ed4-a4b9-41b9-b5d7-c2d51a7ccef2 button.colab-df-convert');\n",
              "        buttonEl.style.display =\n",
              "          google.colab.kernel.accessAllowed ? 'block' : 'none';\n",
              "\n",
              "        async function convertToInteractive(key) {\n",
              "          const element = document.querySelector('#df-75e61ed4-a4b9-41b9-b5d7-c2d51a7ccef2');\n",
              "          const dataTable =\n",
              "            await google.colab.kernel.invokeFunction('convertToInteractive',\n",
              "                                                     [key], {});\n",
              "          if (!dataTable) return;\n",
              "\n",
              "          const docLinkHtml = 'Like what you see? Visit the ' +\n",
              "            '<a target=\"_blank\" href=https://colab.research.google.com/notebooks/data_table.ipynb>data table notebook</a>'\n",
              "            + ' to learn more about interactive tables.';\n",
              "          element.innerHTML = '';\n",
              "          dataTable['output_type'] = 'display_data';\n",
              "          await google.colab.output.renderOutput(dataTable, element);\n",
              "          const docLink = document.createElement('div');\n",
              "          docLink.innerHTML = docLinkHtml;\n",
              "          element.appendChild(docLink);\n",
              "        }\n",
              "      </script>\n",
              "    </div>\n",
              "  </div>\n",
              "  "
            ]
          },
          "metadata": {},
          "execution_count": 18
        }
      ]
    },
    {
      "cell_type": "code",
      "source": [
        "# Filtrando PCDs con discapacidad Física\n",
        "condicionFisica = \"(DISCAPACIDAD == 'FÍSICA')\"\n",
        "datoFisica = dataAllUbigeo.query(condicionFisica)\n",
        "\n",
        "# Filtrando PCDs con discapacidad Intelectual\n",
        "condicionIntelectual = \"(DISCAPACIDAD == 'INTELECTUAL')\"\n",
        "datoIntelectual = dataAllUbigeo.query(condicionIntelectual)"
      ],
      "metadata": {
        "id": "8Yi4w_i-2-d4"
      },
      "execution_count": 19,
      "outputs": []
    },
    {
      "cell_type": "code",
      "source": [
        "datoFisica = pd.crosstab(datoFisica.EDAD, datoFisica.SEXO)\n",
        "datoInteletual = pd.crosstab(datoIntelectual.EDAD, datoIntelectual.SEXO)\n",
        "datoEdad = pd.crosstab(dataAllUbigeo.EDAD, dataAllUbigeo.SEXO)\n",
        "#datoEdad.columns.values.tolist()\n",
        "#datoEdad.index.tolist()\n",
        "#datoEdad.M.tolist()\n",
        "#datoEdad.F.tolist()"
      ],
      "metadata": {
        "id": "wW5N1ynyDGt_"
      },
      "execution_count": 20,
      "outputs": []
    },
    {
      "cell_type": "markdown",
      "source": [
        "### Análisis Gráfico General entre PCDs por Sexo"
      ],
      "metadata": {
        "id": "4-8_Mystez7I"
      }
    },
    {
      "cell_type": "code",
      "source": [
        "import matplotlib.pyplot as plt\n",
        "\n",
        "# customized dict for our title\n",
        "font = {'family': 'sans-serif',\n",
        "        'color':  'darkred',\n",
        "        'weight': 'normal',\n",
        "        'size': 20,\n",
        "        }\n",
        "\n",
        "# Re-sizing plot area\n",
        "f = plt.figure()\n",
        "f.set_figwidth(16)\n",
        "f.set_figheight(6)\n",
        "\n",
        "# Adding a title and axis text\n",
        "plt.title(\"PCD Registradas 2022\", fontdict=font) # UPDATE: pass our dict as parameter\n",
        "plt.xlabel(\"Edad\")\n",
        "plt.ylabel(\"Cantidad (PCDs)\")\n",
        "\n",
        "\n",
        "plt.plot(datoEdad.index.tolist(), datoEdad.M.tolist(), label='Hombres')\n",
        "plt.plot(datoEdad.index.tolist(), datoEdad.F.tolist(), label='Mujeres')\n",
        "\n",
        "# add a legend (automatically)\n",
        "plt.legend()\n",
        "\n",
        "# adding grid\n",
        "plt.grid(True)\n",
        "\n",
        "# display\n",
        "plt.show()"
      ],
      "metadata": {
        "colab": {
          "base_uri": "https://localhost:8080/",
          "height": 54
        },
        "id": "E-PRJiphwpLY",
        "outputId": "857f7ee8-51a8-4529-ae71-0318c7b91d4a"
      },
      "execution_count": 21,
      "outputs": [
        {
          "output_type": "display_data",
          "data": {
            "text/plain": [
              "<Figure size 1152x432 with 1 Axes>"
            ],
            "image/png": "[encoded data removed]"
          },
          "metadata": {
            "needs_background": "light"
          }
        }
      ]
    },
    {
      "cell_type": "markdown",
      "source": [
        "### Análisis Gráfico por discapacidad Física e Intelectual"
      ],
      "metadata": {
        "id": "cUP1OyFsfB4P"
      }
    },
    {
      "cell_type": "code",
      "source": [
        "import matplotlib.pyplot as plt\n",
        "\n",
        "font = {'family': 'sans-serif',\n",
        "        'color':  'darkred',\n",
        "        'weight': 'normal',\n",
        "        'size': 16,\n",
        "        }\n",
        "\n",
        "plt.subplot(2,1,1)\n",
        "plt.plot(datoFisica.index.tolist(), datoFisica.M.tolist(), label='Hombres')\n",
        "plt.plot(datoFisica.index.tolist(), datoFisica.F.tolist(), label='Mujeres')\n",
        "plt.legend()\n",
        "plt.grid(True)\n",
        "plt.title('PCD Físico', fontdict=font)\n",
        "plt.ylabel(\"Cantidad (PCDs)\")\n",
        "\n",
        "plt.subplot(2,1,2)\n",
        "plt.plot(datoInteletual.index.tolist(), datoInteletual.M.tolist(), label='Hombres')\n",
        "plt.plot(datoInteletual.index.tolist(), datoInteletual.F.tolist(), label='Mujeres')\n",
        "plt.legend()\n",
        "plt.grid(True)\n",
        "plt.title('PCD Intelectual', fontdict=font)\n",
        "plt.ylabel(\"Cantidad (PCDs)\")\n",
        "plt.xlabel(\"Edad\")\n",
        "\n",
        "plt.tight_layout(pad=0.4, w_pad=1, h_pad=0.3) # UPDATE 3: set space manually\n",
        "\n",
        "plt.show()"
      ],
      "metadata": {
        "colab": {
          "base_uri": "https://localhost:8080/",
          "height": 54
        },
        "id": "-nM5ZoDOTdR0",
        "outputId": "dec9b217-4da2-4b1d-c1b0-347fd840999c"
      },
      "execution_count": 22,
      "outputs": [
        {
          "output_type": "display_data",
          "data": {
            "text/plain": [
              "<Figure size 432x288 with 2 Axes>"
            ],
            "image/png": "[encoded data removed]"
          },
          "metadata": {
            "needs_background": "light"
          }
        }
      ]
    },
    {
      "cell_type": "markdown",
      "source": [
        "## 4. Análisis de PCD en **Distritos** según **IDH**\n",
        "Se concluye que **NO EXISTE** dependencia o relación directa entre el *Índice de Desarrollo Humano* de un distrito y la cantidad de *Personas con Discapacidad* del mismo.\n",
        "\n"
      ],
      "metadata": {
        "id": "QPkA0vXIxC_p"
      }
    },
    {
      "cell_type": "markdown",
      "source": [
        "### **IDH** - Índice de Desarrollo Humano Distrital"
      ],
      "metadata": {
        "id": "vKuYm8WFwc31"
      }
    },
    {
      "cell_type": "code",
      "source": [
        "dataIDH = pd.read_excel(path + 'IDH2017Distrital.xlsx')\n",
        "dataIDH.head()"
      ],
      "metadata": {
        "colab": {
          "base_uri": "https://localhost:8080/",
          "height": 305
        },
        "id": "N7xPREs8wqSV",
        "outputId": "6113f24f-72c2-41e6-9036-81a578b048d8"
      },
      "execution_count": 23,
      "outputs": [
        {
          "output_type": "execute_result",
          "data": {
            "text/plain": [
              "   UBIGEO  NRO      DISTRITO  HABITANTES       IDH  ESPERANZA VIDA AÑOS  \\\n",
              "0   10101    1  Chachapoyas        32589  0.605711            73.297544   \n",
              "1   10102    2  Asuncion             262  0.421303            72.349067   \n",
              "2   10103    3     Balsas           1136  0.294232            68.710568   \n",
              "3   10104    4       Cheto           642  0.329549            83.896326   \n",
              "4   10105    5    Chiliquin          585  0.264602            77.261089   \n",
              "\n",
              "   SECUNDARIA COPLETA 18AÑOS  AÑOS EDUCACION 25AÑOS  \\\n",
              "0                  74.699578                 9.7582   \n",
              "1                  66.666667                 5.8662   \n",
              "2                  30.769231                 4.9866   \n",
              "3                  49.019608                 4.2735   \n",
              "4                  34.615385                 3.3040   \n",
              "\n",
              "   INGRESO FAMILIAR PER CAPITA  \n",
              "0                  1086.762736  \n",
              "1                   569.610318  \n",
              "2                   362.999904  \n",
              "3                   342.569379  \n",
              "4                   308.814375  "
            ],
            "text/html": [
              "\n",
              "  <div id=\"df-2d3fdeba-d350-4611-8534-eef12335200f\">\n",
              "    <div class=\"colab-df-container\">\n",
              "      <div>\n",
              "<style scoped>\n",
              "    .dataframe tbody tr th:only-of-type {\n",
              "        vertical-align: middle;\n",
              "    }\n",
              "\n",
              "    .dataframe tbody tr th {\n",
              "        vertical-align: top;\n",
              "    }\n",
              "\n",
              "    .dataframe thead th {\n",
              "        text-align: right;\n",
              "    }\n",
              "</style>\n",
              "<table border=\"1\" class=\"dataframe\">\n",
              "  <thead>\n",
              "    <tr style=\"text-align: right;\">\n",
              "      <th></th>\n",
              "      <th>UBIGEO</th>\n",
              "      <th>NRO</th>\n",
              "      <th>DISTRITO</th>\n",
              "      <th>HABITANTES</th>\n",
              "      <th>IDH</th>\n",
              "      <th>ESPERANZA VIDA AÑOS</th>\n",
              "      <th>SECUNDARIA COPLETA 18AÑOS</th>\n",
              "      <th>AÑOS EDUCACION 25AÑOS</th>\n",
              "      <th>INGRESO FAMILIAR PER CAPITA</th>\n",
              "    </tr>\n",
              "  </thead>\n",
              "  <tbody>\n",
              "    <tr>\n",
              "      <th>0</th>\n",
              "      <td>10101</td>\n",
              "      <td>1</td>\n",
              "      <td>Chachapoyas</td>\n",
              "      <td>32589</td>\n",
              "      <td>0.605711</td>\n",
              "      <td>73.297544</td>\n",
              "      <td>74.699578</td>\n",
              "      <td>9.7582</td>\n",
              "      <td>1086.762736</td>\n",
              "    </tr>\n",
              "    <tr>\n",
              "      <th>1</th>\n",
              "      <td>10102</td>\n",
              "      <td>2</td>\n",
              "      <td>Asuncion</td>\n",
              "      <td>262</td>\n",
              "      <td>0.421303</td>\n",
              "      <td>72.349067</td>\n",
              "      <td>66.666667</td>\n",
              "      <td>5.8662</td>\n",
              "      <td>569.610318</td>\n",
              "    </tr>\n",
              "    <tr>\n",
              "      <th>2</th>\n",
              "      <td>10103</td>\n",
              "      <td>3</td>\n",
              "      <td>Balsas</td>\n",
              "      <td>1136</td>\n",
              "      <td>0.294232</td>\n",
              "      <td>68.710568</td>\n",
              "      <td>30.769231</td>\n",
              "      <td>4.9866</td>\n",
              "      <td>362.999904</td>\n",
              "    </tr>\n",
              "    <tr>\n",
              "      <th>3</th>\n",
              "      <td>10104</td>\n",
              "      <td>4</td>\n",
              "      <td>Cheto</td>\n",
              "      <td>642</td>\n",
              "      <td>0.329549</td>\n",
              "      <td>83.896326</td>\n",
              "      <td>49.019608</td>\n",
              "      <td>4.2735</td>\n",
              "      <td>342.569379</td>\n",
              "    </tr>\n",
              "    <tr>\n",
              "      <th>4</th>\n",
              "      <td>10105</td>\n",
              "      <td>5</td>\n",
              "      <td>Chiliquin</td>\n",
              "      <td>585</td>\n",
              "      <td>0.264602</td>\n",
              "      <td>77.261089</td>\n",
              "      <td>34.615385</td>\n",
              "      <td>3.3040</td>\n",
              "      <td>308.814375</td>\n",
              "    </tr>\n",
              "  </tbody>\n",
              "</table>\n",
              "</div>\n",
              "      <button class=\"colab-df-convert\" onclick=\"convertToInteractive('df-2d3fdeba-d350-4611-8534-eef12335200f')\"\n",
              "              title=\"Convert this dataframe to an interactive table.\"\n",
              "              style=\"display:none;\">\n",
              "        \n",
              "  <svg xmlns=\"http://www.w3.org/2000/svg\" height=\"24px\"viewBox=\"0 0 24 24\"\n",
              "       width=\"24px\">\n",
              "    <path d=\"M0 0h24v24H0V0z\" fill=\"none\"/>\n",
              "    <path d=\"M18.56 5.44l.94 2.06.94-2.06 2.06-.94-2.06-.94-.94-2.06-.94 2.06-2.06.94zm-11 1L8.5 8.5l.94-2.06 2.06-.94-2.06-.94L8.5 2.5l-.94 2.06-2.06.94zm10 10l.94 2.06.94-2.06 2.06-.94-2.06-.94-.94-2.06-.94 2.06-2.06.94z\"/><path d=\"M17.41 7.96l-1.37-1.37c-.4-.4-.92-.59-1.43-.59-.52 0-1.04.2-1.43.59L10.3 9.45l-7.72 7.72c-.78.78-.78 2.05 0 2.83L4 21.41c.39.39.9.59 1.41.59.51 0 1.02-.2 1.41-.59l7.78-7.78 2.81-2.81c.8-.78.8-2.07 0-2.86zM5.41 20L4 18.59l7.72-7.72 1.47 1.35L5.41 20z\"/>\n",
              "  </svg>\n",
              "      </button>\n",
              "      \n",
              "  <style>\n",
              "    .colab-df-container {\n",
              "      display:flex;\n",
              "      flex-wrap:wrap;\n",
              "      gap: 12px;\n",
              "    }\n",
              "\n",
              "    .colab-df-convert {\n",
              "      background-color: #E8F0FE;\n",
              "      border: none;\n",
              "      border-radius: 50%;\n",
              "      cursor: pointer;\n",
              "      display: none;\n",
              "      fill: #1967D2;\n",
              "      height: 32px;\n",
              "      padding: 0 0 0 0;\n",
              "      width: 32px;\n",
              "    }\n",
              "\n",
              "    .colab-df-convert:hover {\n",
              "      background-color: #E2EBFA;\n",
              "      box-shadow: 0px 1px 2px rgba(60, 64, 67, 0.3), 0px 1px 3px 1px rgba(60, 64, 67, 0.15);\n",
              "      fill: #174EA6;\n",
              "    }\n",
              "\n",
              "    [theme=dark] .colab-df-convert {\n",
              "      background-color: #3B4455;\n",
              "      fill: #D2E3FC;\n",
              "    }\n",
              "\n",
              "    [theme=dark] .colab-df-convert:hover {\n",
              "      background-color: #434B5C;\n",
              "      box-shadow: 0px 1px 3px 1px rgba(0, 0, 0, 0.15);\n",
              "      filter: drop-shadow(0px 1px 2px rgba(0, 0, 0, 0.3));\n",
              "      fill: #FFFFFF;\n",
              "    }\n",
              "  </style>\n",
              "\n",
              "      <script>\n",
              "        const buttonEl =\n",
              "          document.querySelector('#df-2d3fdeba-d350-4611-8534-eef12335200f button.colab-df-convert');\n",
              "        buttonEl.style.display =\n",
              "          google.colab.kernel.accessAllowed ? 'block' : 'none';\n",
              "\n",
              "        async function convertToInteractive(key) {\n",
              "          const element = document.querySelector('#df-2d3fdeba-d350-4611-8534-eef12335200f');\n",
              "          const dataTable =\n",
              "            await google.colab.kernel.invokeFunction('convertToInteractive',\n",
              "                                                     [key], {});\n",
              "          if (!dataTable) return;\n",
              "\n",
              "          const docLinkHtml = 'Like what you see? Visit the ' +\n",
              "            '<a target=\"_blank\" href=https://colab.research.google.com/notebooks/data_table.ipynb>data table notebook</a>'\n",
              "            + ' to learn more about interactive tables.';\n",
              "          element.innerHTML = '';\n",
              "          dataTable['output_type'] = 'display_data';\n",
              "          await google.colab.output.renderOutput(dataTable, element);\n",
              "          const docLink = document.createElement('div');\n",
              "          docLink.innerHTML = docLinkHtml;\n",
              "          element.appendChild(docLink);\n",
              "        }\n",
              "      </script>\n",
              "    </div>\n",
              "  </div>\n",
              "  "
            ]
          },
          "metadata": {},
          "execution_count": 23
        }
      ]
    },
    {
      "cell_type": "markdown",
      "source": [
        "### Uniendo las PCDs con IDH por Ubigeo"
      ],
      "metadata": {
        "id": "EODVhaTNmGcj"
      }
    },
    {
      "cell_type": "code",
      "source": [
        "dataPCDUbigeoIDH = pd.merge(dataAllUbigeo, dataIDH, on='UBIGEO')\n",
        "dataPCDUbigeoIDH.columns"
      ],
      "metadata": {
        "colab": {
          "base_uri": "https://localhost:8080/"
        },
        "id": "RUCKvCn3mDuj",
        "outputId": "0f5be83b-36d1-4a7c-d439-8ca59ff2cb91"
      },
      "execution_count": 24,
      "outputs": [
        {
          "output_type": "execute_result",
          "data": {
            "text/plain": [
              "Index(['Unnamed: 0', 'SEXO', 'NACDIA', 'NACMES', 'NACANIO', 'SISFHO',\n",
              "       'CERTIFICADO', 'TIPO_DISCAPACIDAD', 'NIVEL_DISCAPACIDAD', 'CONADIS',\n",
              "       'DEPARTAMENTO', 'PROVINCIA', 'DISTRITO_x', 'EDAD', 'INSTRUCCION',\n",
              "       'DISCAPACIDAD', 'UBIGEO', 'COD_DEPA', 'COD_PROV', 'COD_DIST', 'NRO',\n",
              "       'DISTRITO_y', 'HABITANTES', 'IDH', 'ESPERANZA VIDA AÑOS',\n",
              "       'SECUNDARIA COPLETA 18AÑOS', 'AÑOS EDUCACION 25AÑOS',\n",
              "       'INGRESO FAMILIAR PER CAPITA'],\n",
              "      dtype='object')"
            ]
          },
          "metadata": {},
          "execution_count": 24
        }
      ]
    },
    {
      "cell_type": "code",
      "source": [
        "dataPCDUbigeoIDH.rename(columns = {'DISTRITO_x':'DISTRITO',\n",
        "                                   'ESPERANZA VIDA AÑOS':'ESPERANZA',\n",
        "                                   'SECUNDARIA COPLETA 18AÑOS':'SECUNDARIA', \n",
        "                                   'AÑOS EDUCACION 25AÑOS':'AÑOS_EDU', \n",
        "                                   'INGRESO FAMILIAR PER CAPITA':'INGRESO_PER_CAPITA'}, inplace = True)\n",
        "\n",
        "dataPCDUbigeoIDH.drop(['NRO', 'DISTRITO_y'], inplace=True, axis=1)"
      ],
      "metadata": {
        "id": "RNZob1-RpE3I"
      },
      "execution_count": 25,
      "outputs": []
    },
    {
      "cell_type": "code",
      "source": [
        "dataPCDUbigeoIDH.info()"
      ],
      "metadata": {
        "colab": {
          "base_uri": "https://localhost:8080/"
        },
        "id": "q5tA5RZqq443",
        "outputId": "cc8907c3-a79e-4432-a689-b4dd33adb85b"
      },
      "execution_count": 26,
      "outputs": [
        {
          "output_type": "stream",
          "name": "stdout",
          "text": [
            "<class 'pandas.core.frame.DataFrame'>\n",
            "Int64Index: 8734 entries, 0 to 8733\n",
            "Data columns (total 26 columns):\n",
            " #   Column              Non-Null Count  Dtype  \n",
            "---  ------              --------------  -----  \n",
            " 0   Unnamed: 0          8734 non-null   int64  \n",
            " 1   SEXO                8734 non-null   object \n",
            " 2   NACDIA              8734 non-null   int64  \n",
            " 3   NACMES              8734 non-null   int64  \n",
            " 4   NACANIO             8734 non-null   int64  \n",
            " 5   SISFHO              8734 non-null   object \n",
            " 6   CERTIFICADO         7448 non-null   object \n",
            " 7   TIPO_DISCAPACIDAD   8734 non-null   object \n",
            " 8   NIVEL_DISCAPACIDAD  8734 non-null   object \n",
            " 9   CONADIS             6219 non-null   object \n",
            " 10  DEPARTAMENTO        8734 non-null   object \n",
            " 11  PROVINCIA           8734 non-null   object \n",
            " 12  DISTRITO            8734 non-null   object \n",
            " 13  EDAD                8734 non-null   int64  \n",
            " 14  INSTRUCCION         8734 non-null   object \n",
            " 15  DISCAPACIDAD        8734 non-null   object \n",
            " 16  UBIGEO              8734 non-null   int64  \n",
            " 17  COD_DEPA            8734 non-null   int64  \n",
            " 18  COD_PROV            8734 non-null   int64  \n",
            " 19  COD_DIST            8734 non-null   int64  \n",
            " 20  HABITANTES          8734 non-null   int64  \n",
            " 21  IDH                 8734 non-null   float64\n",
            " 22  ESPERANZA           8734 non-null   float64\n",
            " 23  SECUNDARIA          8734 non-null   float64\n",
            " 24  AÑOS_EDU            8734 non-null   float64\n",
            " 25  INGRESO_PER_CAPITA  8734 non-null   float64\n",
            "dtypes: float64(5), int64(10), object(11)\n",
            "memory usage: 1.8+ MB\n"
          ]
        }
      ]
    },
    {
      "cell_type": "markdown",
      "source": [
        "### Análisis gráfico de relación"
      ],
      "metadata": {
        "id": "VPdeyCgJ06xC"
      }
    },
    {
      "cell_type": "code",
      "source": [
        "ubigeoPCD = pd.crosstab(dataPCDUbigeoIDH.UBIGEO, dataPCDUbigeoIDH.SEXO, margins=True, margins_name='TotalPCD')\n",
        "ubigeoPCD.columns"
      ],
      "metadata": {
        "colab": {
          "base_uri": "https://localhost:8080/"
        },
        "id": "xiZgVyXtOgIN",
        "outputId": "3282035e-3d8c-453a-afb0-c6633cc6cb17"
      },
      "execution_count": 27,
      "outputs": [
        {
          "output_type": "execute_result",
          "data": {
            "text/plain": [
              "Index(['F', 'M', 'TotalPCD'], dtype='object', name='SEXO')"
            ]
          },
          "metadata": {},
          "execution_count": 27
        }
      ]
    },
    {
      "cell_type": "code",
      "source": [
        "distritoPCD_IDH = pd.merge(ubigeoPCD, dataIDH, on='UBIGEO')\n",
        "distritoPCD_IDH.columns"
      ],
      "metadata": {
        "id": "m3ZJtnm8LD4f",
        "colab": {
          "base_uri": "https://localhost:8080/"
        },
        "outputId": "e8f62f6d-6d29-4932-95a1-244478fd0b02"
      },
      "execution_count": 28,
      "outputs": [
        {
          "output_type": "execute_result",
          "data": {
            "text/plain": [
              "Index(['UBIGEO', 'F', 'M', 'TotalPCD', 'NRO', 'DISTRITO', 'HABITANTES', 'IDH',\n",
              "       'ESPERANZA VIDA AÑOS', 'SECUNDARIA COPLETA 18AÑOS',\n",
              "       'AÑOS EDUCACION 25AÑOS', 'INGRESO FAMILIAR PER CAPITA'],\n",
              "      dtype='object')"
            ]
          },
          "metadata": {},
          "execution_count": 28
        }
      ]
    },
    {
      "cell_type": "code",
      "source": [
        "import matplotlib.pyplot as plt\n",
        "\n",
        "# customized dict for our title\n",
        "font = {'family': 'sans-serif',\n",
        "        'color':  'darkred',\n",
        "        'weight': 'normal',\n",
        "        'size': 16,\n",
        "        }\n",
        "        \n",
        "# Adding a title and axis text\n",
        "plt.title(\"IDH Vs PCDs\", fontdict=font)\n",
        "plt.xlabel(\"IDH\")\n",
        "plt.ylabel(\"Cantidad (PCDs)\")\n",
        "\n",
        "plt.scatter(distritoPCD_IDH.IDH, distritoPCD_IDH.TotalPCD)\n",
        "\n",
        "# adding grid\n",
        "plt.grid(True)\n",
        "\n",
        "# display\n",
        "plt.show()"
      ],
      "metadata": {
        "colab": {
          "base_uri": "https://localhost:8080/",
          "height": 54
        },
        "id": "LrjUWqpEEeiZ",
        "outputId": "71b27324-738d-4342-d320-416e2adbb5b8"
      },
      "execution_count": 29,
      "outputs": [
        {
          "output_type": "display_data",
          "data": {
            "text/plain": [
              "<Figure size 432x288 with 1 Axes>"
            ],
            "image/png": "[encoded data removed]"
          },
          "metadata": {
            "needs_background": "light"
          }
        }
      ]
    },
    {
      "cell_type": "markdown",
      "source": [
        "## 5. Nivel de Educación Vs SISFHO"
      ],
      "metadata": {
        "id": "7_LLbxPwfIAs"
      }
    },
    {
      "cell_type": "code",
      "source": [
        "datoInstrucion = pd.crosstab(dataAllUbigeo.INSTRUCCION, dataAllUbigeo.SISFHO, margins=True, margins_name='Total')\n",
        "datoSisfho = pd.crosstab(dataAllUbigeo.SISFHO, dataAllUbigeo.INSTRUCCION, margins=True, margins_name='Total')\n",
        "datoSisfho"
      ],
      "metadata": {
        "colab": {
          "base_uri": "https://localhost:8080/",
          "height": 238
        },
        "id": "j7b7cVaMfSX0",
        "outputId": "388ca095-81aa-476a-fec0-389fff8c6c48"
      },
      "execution_count": 30,
      "outputs": [
        {
          "output_type": "execute_result",
          "data": {
            "text/plain": [
              "INSTRUCCION    INICIAL  NINGUNO  PRIM COMPLETA  PRIM INCOMPLETA  SEC COMPLETA  \\\n",
              "SISFHO                                                                          \n",
              "CSE                  2       65             13               15            20   \n",
              "NO POBRE            18      269             79              107            77   \n",
              "POBRE               54     1078            341              507           230   \n",
              "POBRE EXTREMO       80     2754            605             1254           243   \n",
              "Total              154     4166           1038             1883           570   \n",
              "\n",
              "INSTRUCCION    SEC INCOMPLETA  SUPERIOR  Total  \n",
              "SISFHO                                          \n",
              "CSE                        10        31    156  \n",
              "NO POBRE                   51        95    696  \n",
              "POBRE                     261        97   2568  \n",
              "POBRE EXTREMO             326        52   5314  \n",
              "Total                     648       275   8734  "
            ],
            "text/html": [
              "\n",
              "  <div id=\"df-b8b033c5-7bb1-4cee-a7f8-513300cb38a7\">\n",
              "    <div class=\"colab-df-container\">\n",
              "      <div>\n",
              "<style scoped>\n",
              "    .dataframe tbody tr th:only-of-type {\n",
              "        vertical-align: middle;\n",
              "    }\n",
              "\n",
              "    .dataframe tbody tr th {\n",
              "        vertical-align: top;\n",
              "    }\n",
              "\n",
              "    .dataframe thead th {\n",
              "        text-align: right;\n",
              "    }\n",
              "</style>\n",
              "<table border=\"1\" class=\"dataframe\">\n",
              "  <thead>\n",
              "    <tr style=\"text-align: right;\">\n",
              "      <th>INSTRUCCION</th>\n",
              "      <th>INICIAL</th>\n",
              "      <th>NINGUNO</th>\n",
              "      <th>PRIM COMPLETA</th>\n",
              "      <th>PRIM INCOMPLETA</th>\n",
              "      <th>SEC COMPLETA</th>\n",
              "      <th>SEC INCOMPLETA</th>\n",
              "      <th>SUPERIOR</th>\n",
              "      <th>Total</th>\n",
              "    </tr>\n",
              "    <tr>\n",
              "      <th>SISFHO</th>\n",
              "      <th></th>\n",
              "      <th></th>\n",
              "      <th></th>\n",
              "      <th></th>\n",
              "      <th></th>\n",
              "      <th></th>\n",
              "      <th></th>\n",
              "      <th></th>\n",
              "    </tr>\n",
              "  </thead>\n",
              "  <tbody>\n",
              "    <tr>\n",
              "      <th>CSE</th>\n",
              "      <td>2</td>\n",
              "      <td>65</td>\n",
              "      <td>13</td>\n",
              "      <td>15</td>\n",
              "      <td>20</td>\n",
              "      <td>10</td>\n",
              "      <td>31</td>\n",
              "      <td>156</td>\n",
              "    </tr>\n",
              "    <tr>\n",
              "      <th>NO POBRE</th>\n",
              "      <td>18</td>\n",
              "      <td>269</td>\n",
              "      <td>79</td>\n",
              "      <td>107</td>\n",
              "      <td>77</td>\n",
              "      <td>51</td>\n",
              "      <td>95</td>\n",
              "      <td>696</td>\n",
              "    </tr>\n",
              "    <tr>\n",
              "      <th>POBRE</th>\n",
              "      <td>54</td>\n",
              "      <td>1078</td>\n",
              "      <td>341</td>\n",
              "      <td>507</td>\n",
              "      <td>230</td>\n",
              "      <td>261</td>\n",
              "      <td>97</td>\n",
              "      <td>2568</td>\n",
              "    </tr>\n",
              "    <tr>\n",
              "      <th>POBRE EXTREMO</th>\n",
              "      <td>80</td>\n",
              "      <td>2754</td>\n",
              "      <td>605</td>\n",
              "      <td>1254</td>\n",
              "      <td>243</td>\n",
              "      <td>326</td>\n",
              "      <td>52</td>\n",
              "      <td>5314</td>\n",
              "    </tr>\n",
              "    <tr>\n",
              "      <th>Total</th>\n",
              "      <td>154</td>\n",
              "      <td>4166</td>\n",
              "      <td>1038</td>\n",
              "      <td>1883</td>\n",
              "      <td>570</td>\n",
              "      <td>648</td>\n",
              "      <td>275</td>\n",
              "      <td>8734</td>\n",
              "    </tr>\n",
              "  </tbody>\n",
              "</table>\n",
              "</div>\n",
              "      <button class=\"colab-df-convert\" onclick=\"convertToInteractive('df-b8b033c5-7bb1-4cee-a7f8-513300cb38a7')\"\n",
              "              title=\"Convert this dataframe to an interactive table.\"\n",
              "              style=\"display:none;\">\n",
              "        \n",
              "  <svg xmlns=\"http://www.w3.org/2000/svg\" height=\"24px\"viewBox=\"0 0 24 24\"\n",
              "       width=\"24px\">\n",
              "    <path d=\"M0 0h24v24H0V0z\" fill=\"none\"/>\n",
              "    <path d=\"M18.56 5.44l.94 2.06.94-2.06 2.06-.94-2.06-.94-.94-2.06-.94 2.06-2.06.94zm-11 1L8.5 8.5l.94-2.06 2.06-.94-2.06-.94L8.5 2.5l-.94 2.06-2.06.94zm10 10l.94 2.06.94-2.06 2.06-.94-2.06-.94-.94-2.06-.94 2.06-2.06.94z\"/><path d=\"M17.41 7.96l-1.37-1.37c-.4-.4-.92-.59-1.43-.59-.52 0-1.04.2-1.43.59L10.3 9.45l-7.72 7.72c-.78.78-.78 2.05 0 2.83L4 21.41c.39.39.9.59 1.41.59.51 0 1.02-.2 1.41-.59l7.78-7.78 2.81-2.81c.8-.78.8-2.07 0-2.86zM5.41 20L4 18.59l7.72-7.72 1.47 1.35L5.41 20z\"/>\n",
              "  </svg>\n",
              "      </button>\n",
              "      \n",
              "  <style>\n",
              "    .colab-df-container {\n",
              "      display:flex;\n",
              "      flex-wrap:wrap;\n",
              "      gap: 12px;\n",
              "    }\n",
              "\n",
              "    .colab-df-convert {\n",
              "      background-color: #E8F0FE;\n",
              "      border: none;\n",
              "      border-radius: 50%;\n",
              "      cursor: pointer;\n",
              "      display: none;\n",
              "      fill: #1967D2;\n",
              "      height: 32px;\n",
              "      padding: 0 0 0 0;\n",
              "      width: 32px;\n",
              "    }\n",
              "\n",
              "    .colab-df-convert:hover {\n",
              "      background-color: #E2EBFA;\n",
              "      box-shadow: 0px 1px 2px rgba(60, 64, 67, 0.3), 0px 1px 3px 1px rgba(60, 64, 67, 0.15);\n",
              "      fill: #174EA6;\n",
              "    }\n",
              "\n",
              "    [theme=dark] .colab-df-convert {\n",
              "      background-color: #3B4455;\n",
              "      fill: #D2E3FC;\n",
              "    }\n",
              "\n",
              "    [theme=dark] .colab-df-convert:hover {\n",
              "      background-color: #434B5C;\n",
              "      box-shadow: 0px 1px 3px 1px rgba(0, 0, 0, 0.15);\n",
              "      filter: drop-shadow(0px 1px 2px rgba(0, 0, 0, 0.3));\n",
              "      fill: #FFFFFF;\n",
              "    }\n",
              "  </style>\n",
              "\n",
              "      <script>\n",
              "        const buttonEl =\n",
              "          document.querySelector('#df-b8b033c5-7bb1-4cee-a7f8-513300cb38a7 button.colab-df-convert');\n",
              "        buttonEl.style.display =\n",
              "          google.colab.kernel.accessAllowed ? 'block' : 'none';\n",
              "\n",
              "        async function convertToInteractive(key) {\n",
              "          const element = document.querySelector('#df-b8b033c5-7bb1-4cee-a7f8-513300cb38a7');\n",
              "          const dataTable =\n",
              "            await google.colab.kernel.invokeFunction('convertToInteractive',\n",
              "                                                     [key], {});\n",
              "          if (!dataTable) return;\n",
              "\n",
              "          const docLinkHtml = 'Like what you see? Visit the ' +\n",
              "            '<a target=\"_blank\" href=https://colab.research.google.com/notebooks/data_table.ipynb>data table notebook</a>'\n",
              "            + ' to learn more about interactive tables.';\n",
              "          element.innerHTML = '';\n",
              "          dataTable['output_type'] = 'display_data';\n",
              "          await google.colab.output.renderOutput(dataTable, element);\n",
              "          const docLink = document.createElement('div');\n",
              "          docLink.innerHTML = docLinkHtml;\n",
              "          element.appendChild(docLink);\n",
              "        }\n",
              "      </script>\n",
              "    </div>\n",
              "  </div>\n",
              "  "
            ]
          },
          "metadata": {},
          "execution_count": 30
        }
      ]
    },
    {
      "cell_type": "markdown",
      "source": [
        "### Análisis Visual: PCDs - SISFHO\n",
        "Se evidencia que se tiene un mayor número de **PCDs** (*Personas con Discapacidad*) en grupos de **POBREZA EXTREMA**"
      ],
      "metadata": {
        "id": "IQLny-Dr9yZA"
      }
    },
    {
      "cell_type": "code",
      "source": [
        "plt.title(\"PCD Clasificacion SISFHO\", fontdict=font) # UPDATE: pass our dict as parameter\n",
        "plt.ylabel(\"Cantidad (PCDs)\")\n",
        "\n",
        "plt.bar(datoSisfho.index.tolist()[0:len(datoSisfho.index.tolist())-1], datoSisfho.Total.tolist()[0:len(datoSisfho.Total.tolist())-1])\n",
        "\n",
        "plt.grid(True)\n",
        "plt.show()"
      ],
      "metadata": {
        "colab": {
          "base_uri": "https://localhost:8080/",
          "height": 54
        },
        "id": "Ny900sbefXJf",
        "outputId": "ad4d7053-44bf-42ca-eb27-7b5c84b27307"
      },
      "execution_count": 31,
      "outputs": [
        {
          "output_type": "display_data",
          "data": {
            "text/plain": [
              "<Figure size 432x288 with 1 Axes>"
            ],
            "image/png": "[encoded data removed]"
          },
          "metadata": {
            "needs_background": "light"
          }
        }
      ]
    },
    {
      "cell_type": "markdown",
      "source": [
        "### Análisis Visual: PCDs - Nivel de Instrucción\n",
        "Se evidencia lo siguiente:\n",
        "\n",
        "1.   Mayor número de **PCDs** (*Personas con Discapacidad*) en grupos de personas con **Ningún Nivel de Instrucción**\n",
        "2.   Un grupo de considerable de **PCDs** en personas con solo Primaria concluida o que presentan estudios inconclusos (primaria y secundaria).\n",
        "3.   Un mínimo grupo de **PCDs** con estudios consluidos de educación secundaria y/o educación superior.\n",
        "\n"
      ],
      "metadata": {
        "id": "4vM1GQhH-VX7"
      }
    },
    {
      "cell_type": "code",
      "source": [
        "plt.title(\"PCD Nivel Instrucción\", fontdict=font) # UPDATE: pass our dict as parameter\n",
        "plt.ylabel(\"Cantidad (PCDs)\")\n",
        "\n",
        "plt.bar(datoInstrucion.index.tolist()[0:len(datoInstrucion.index.tolist())-1], datoInstrucion.Total.tolist()[0:len(datoInstrucion.Total.tolist())-1])\n",
        "\n",
        "plt.xticks(rotation = 45, horizontalalignment='right', verticalalignment='top', rotation_mode='default') # Rotates X-Axis Ticks by 45-degrees\n",
        "plt.tight_layout()\n",
        "\n",
        "plt.grid(True)\n",
        "plt.show()"
      ],
      "metadata": {
        "colab": {
          "base_uri": "https://localhost:8080/",
          "height": 54
        },
        "id": "uU2RNvTViFlh",
        "outputId": "5e97a62e-f6e1-4fc5-a0cb-e34f65013324"
      },
      "execution_count": 32,
      "outputs": [
        {
          "output_type": "display_data",
          "data": {
            "text/plain": [
              "<Figure size 432x288 with 1 Axes>"
            ],
            "image/png": "[encoded data removed]"
          },
          "metadata": {
            "needs_background": "light"
          }
        }
      ]
    },
    {
      "cell_type": "markdown",
      "source": [
        "### Análisis Visual: PCDs - SISFHO Vs Nivel Instrucción\n",
        "Se evidencia que el mayor número de **PCDs** (*Personas con Discapacidad*) se encientran acentuadas en los niveles de pobreza extremos con una directa relación en personas de menor grado de instrucción."
      ],
      "metadata": {
        "id": "87uCCGRHASuG"
      }
    },
    {
      "cell_type": "code",
      "source": [
        "import matplotlib.pyplot as plt\n",
        "\n",
        "datoSisfho2 = pd.crosstab(dataAllUbigeo.SISFHO, dataAllUbigeo.INSTRUCCION, margins=False)\n",
        "\n",
        "# Adding a title and axis text\n",
        "plt.title(\"PCD Clasificacion SISFHO\", fontdict=font) # UPDATE: pass our dict as parameter\n",
        "plt.ylabel(\"Cantidad (PCDs)\")\n",
        "\n",
        "plt.plot(datoSisfho2.index.tolist(), datoSisfho2['NINGUNO'].tolist(), label='NINGUNO')\n",
        "plt.plot(datoSisfho2.index.tolist(), datoSisfho2['INICIAL'].tolist(), label='INICIAL')\n",
        "plt.plot(datoSisfho2.index.tolist(), datoSisfho2['PRIM INCOMPLETA'].tolist(), label='PRIM INCOMPLETA')\n",
        "plt.plot(datoSisfho2.index.tolist(), datoSisfho2['PRIM COMPLETA'].tolist(), label='PRIM COMPLETA')\n",
        "plt.plot(datoSisfho2.index.tolist(), datoSisfho2['SEC INCOMPLETA'].tolist(), label='SEC INCOMPLETA')\n",
        "plt.plot(datoSisfho2.index.tolist(), datoSisfho2['SEC COMPLETA'].tolist(), label='SEC COMPLETA')\n",
        "plt.plot(datoSisfho2.index.tolist(), datoSisfho2['SUPERIOR'].tolist(), label='SUPERIOR')\n",
        "\n",
        "# add a legend (automatically)\n",
        "plt.legend()\n",
        "\n",
        "# adding grid\n",
        "plt.grid(True)\n",
        "\n",
        "# display\n",
        "plt.show()"
      ],
      "metadata": {
        "colab": {
          "base_uri": "https://localhost:8080/",
          "height": 283
        },
        "id": "UeDgdWQdIoB3",
        "outputId": "91fd36b7-fc97-4d30-947e-b1d7785a2763"
      },
      "execution_count": 33,
      "outputs": [
        {
          "output_type": "display_data",
          "data": {
            "text/plain": [
              "<Figure size 432x288 with 1 Axes>"
            ],
            "image/png": "[encoded data removed]"
          },
          "metadata": {
            "needs_background": "light"
          }
        }
      ]
    },
    {
      "cell_type": "markdown",
      "source": [
        "### Análisis Visual: PCDs - POBRE EXTREMO Vs Instrucción NINGUNA\n",
        "Analisando la data se evidencia que la mayor cantidad de personas con discapacidad se encuentra en una población en EXTREMO POBRE (SISFHO) y con NINGÚN nivel de instrucción (analfabetos) o que presentaron deserción escolar en el nivel primario de la educación básica regular.\n",
        "Evidenciandose que este grupo presenta un discapacidad **SEVERA** en un gran porcentaje."
      ],
      "metadata": {
        "id": "EIHpMYvLz3Ix"
      }
    },
    {
      "cell_type": "code",
      "source": [
        "condicionFiltro = \"((SISFHO == 'POBRE EXTREMO') & (INSTRUCCION == 'NINGUNO' | INSTRUCCION == 'PRIM INCOMPLETA'))\"\n",
        "dataPCDExtremos = dataAllUbigeo.query(condicionFiltro)\n",
        "dataPCDExtremos.shape"
      ],
      "metadata": {
        "colab": {
          "base_uri": "https://localhost:8080/"
        },
        "id": "J30NYUqwvvO6",
        "outputId": "86f522a2-7092-49f0-b2bd-cfc3d714561a"
      },
      "execution_count": 34,
      "outputs": [
        {
          "output_type": "execute_result",
          "data": {
            "text/plain": [
              "(4008, 20)"
            ]
          },
          "metadata": {},
          "execution_count": 34
        }
      ]
    },
    {
      "cell_type": "code",
      "source": [
        "datoPCDExtremo = pd.crosstab(dataPCDExtremos.EDAD, dataPCDExtremos.NIVEL_DISCAPACIDAD)\n",
        "datoPCDExtremo.head()"
      ],
      "metadata": {
        "colab": {
          "base_uri": "https://localhost:8080/",
          "height": 302
        },
        "id": "Gqvw4f50zS3M",
        "outputId": "30b9490e-323d-47e3-d99c-47ec071a8473"
      },
      "execution_count": 35,
      "outputs": [
        {
          "output_type": "execute_result",
          "data": {
            "text/plain": [
              "NIVEL_DISCAPACIDAD  LEVE  MODERADA  SEVERA\n",
              "EDAD                                      \n",
              "1                      0         0       1\n",
              "2                      4         1      13\n",
              "3                      0         1      18\n",
              "4                      2         1      20\n",
              "5                      2         5      19"
            ],
            "text/html": [
              "\n",
              "  <div id=\"df-45351613-79d5-4454-bc9d-440b04c6acf3\">\n",
              "    <div class=\"colab-df-container\">\n",
              "      <div>\n",
              "<style scoped>\n",
              "    .dataframe tbody tr th:only-of-type {\n",
              "        vertical-align: middle;\n",
              "    }\n",
              "\n",
              "    .dataframe tbody tr th {\n",
              "        vertical-align: top;\n",
              "    }\n",
              "\n",
              "    .dataframe thead th {\n",
              "        text-align: right;\n",
              "    }\n",
              "</style>\n",
              "<table border=\"1\" class=\"dataframe\">\n",
              "  <thead>\n",
              "    <tr style=\"text-align: right;\">\n",
              "      <th>NIVEL_DISCAPACIDAD</th>\n",
              "      <th>LEVE</th>\n",
              "      <th>MODERADA</th>\n",
              "      <th>SEVERA</th>\n",
              "    </tr>\n",
              "    <tr>\n",
              "      <th>EDAD</th>\n",
              "      <th></th>\n",
              "      <th></th>\n",
              "      <th></th>\n",
              "    </tr>\n",
              "  </thead>\n",
              "  <tbody>\n",
              "    <tr>\n",
              "      <th>1</th>\n",
              "      <td>0</td>\n",
              "      <td>0</td>\n",
              "      <td>1</td>\n",
              "    </tr>\n",
              "    <tr>\n",
              "      <th>2</th>\n",
              "      <td>4</td>\n",
              "      <td>1</td>\n",
              "      <td>13</td>\n",
              "    </tr>\n",
              "    <tr>\n",
              "      <th>3</th>\n",
              "      <td>0</td>\n",
              "      <td>1</td>\n",
              "      <td>18</td>\n",
              "    </tr>\n",
              "    <tr>\n",
              "      <th>4</th>\n",
              "      <td>2</td>\n",
              "      <td>1</td>\n",
              "      <td>20</td>\n",
              "    </tr>\n",
              "    <tr>\n",
              "      <th>5</th>\n",
              "      <td>2</td>\n",
              "      <td>5</td>\n",
              "      <td>19</td>\n",
              "    </tr>\n",
              "  </tbody>\n",
              "</table>\n",
              "</div>\n",
              "      <button class=\"colab-df-convert\" onclick=\"convertToInteractive('df-45351613-79d5-4454-bc9d-440b04c6acf3')\"\n",
              "              title=\"Convert this dataframe to an interactive table.\"\n",
              "              style=\"display:none;\">\n",
              "        \n",
              "  <svg xmlns=\"http://www.w3.org/2000/svg\" height=\"24px\"viewBox=\"0 0 24 24\"\n",
              "       width=\"24px\">\n",
              "    <path d=\"M0 0h24v24H0V0z\" fill=\"none\"/>\n",
              "    <path d=\"M18.56 5.44l.94 2.06.94-2.06 2.06-.94-2.06-.94-.94-2.06-.94 2.06-2.06.94zm-11 1L8.5 8.5l.94-2.06 2.06-.94-2.06-.94L8.5 2.5l-.94 2.06-2.06.94zm10 10l.94 2.06.94-2.06 2.06-.94-2.06-.94-.94-2.06-.94 2.06-2.06.94z\"/><path d=\"M17.41 7.96l-1.37-1.37c-.4-.4-.92-.59-1.43-.59-.52 0-1.04.2-1.43.59L10.3 9.45l-7.72 7.72c-.78.78-.78 2.05 0 2.83L4 21.41c.39.39.9.59 1.41.59.51 0 1.02-.2 1.41-.59l7.78-7.78 2.81-2.81c.8-.78.8-2.07 0-2.86zM5.41 20L4 18.59l7.72-7.72 1.47 1.35L5.41 20z\"/>\n",
              "  </svg>\n",
              "      </button>\n",
              "      \n",
              "  <style>\n",
              "    .colab-df-container {\n",
              "      display:flex;\n",
              "      flex-wrap:wrap;\n",
              "      gap: 12px;\n",
              "    }\n",
              "\n",
              "    .colab-df-convert {\n",
              "      background-color: #E8F0FE;\n",
              "      border: none;\n",
              "      border-radius: 50%;\n",
              "      cursor: pointer;\n",
              "      display: none;\n",
              "      fill: #1967D2;\n",
              "      height: 32px;\n",
              "      padding: 0 0 0 0;\n",
              "      width: 32px;\n",
              "    }\n",
              "\n",
              "    .colab-df-convert:hover {\n",
              "      background-color: #E2EBFA;\n",
              "      box-shadow: 0px 1px 2px rgba(60, 64, 67, 0.3), 0px 1px 3px 1px rgba(60, 64, 67, 0.15);\n",
              "      fill: #174EA6;\n",
              "    }\n",
              "\n",
              "    [theme=dark] .colab-df-convert {\n",
              "      background-color: #3B4455;\n",
              "      fill: #D2E3FC;\n",
              "    }\n",
              "\n",
              "    [theme=dark] .colab-df-convert:hover {\n",
              "      background-color: #434B5C;\n",
              "      box-shadow: 0px 1px 3px 1px rgba(0, 0, 0, 0.15);\n",
              "      filter: drop-shadow(0px 1px 2px rgba(0, 0, 0, 0.3));\n",
              "      fill: #FFFFFF;\n",
              "    }\n",
              "  </style>\n",
              "\n",
              "      <script>\n",
              "        const buttonEl =\n",
              "          document.querySelector('#df-45351613-79d5-4454-bc9d-440b04c6acf3 button.colab-df-convert');\n",
              "        buttonEl.style.display =\n",
              "          google.colab.kernel.accessAllowed ? 'block' : 'none';\n",
              "\n",
              "        async function convertToInteractive(key) {\n",
              "          const element = document.querySelector('#df-45351613-79d5-4454-bc9d-440b04c6acf3');\n",
              "          const dataTable =\n",
              "            await google.colab.kernel.invokeFunction('convertToInteractive',\n",
              "                                                     [key], {});\n",
              "          if (!dataTable) return;\n",
              "\n",
              "          const docLinkHtml = 'Like what you see? Visit the ' +\n",
              "            '<a target=\"_blank\" href=https://colab.research.google.com/notebooks/data_table.ipynb>data table notebook</a>'\n",
              "            + ' to learn more about interactive tables.';\n",
              "          element.innerHTML = '';\n",
              "          dataTable['output_type'] = 'display_data';\n",
              "          await google.colab.output.renderOutput(dataTable, element);\n",
              "          const docLink = document.createElement('div');\n",
              "          docLink.innerHTML = docLinkHtml;\n",
              "          element.appendChild(docLink);\n",
              "        }\n",
              "      </script>\n",
              "    </div>\n",
              "  </div>\n",
              "  "
            ]
          },
          "metadata": {},
          "execution_count": 35
        }
      ]
    },
    {
      "cell_type": "code",
      "source": [
        "edades = datoPCDExtremo.index.tolist()\n",
        "len(edades), edades[0], edades[len(edades)-1]"
      ],
      "metadata": {
        "colab": {
          "base_uri": "https://localhost:8080/"
        },
        "id": "8x9EsEHel_Hw",
        "outputId": "97d0d7b5-6d62-49a7-dae2-f3e0cb11420a"
      },
      "execution_count": 36,
      "outputs": [
        {
          "output_type": "execute_result",
          "data": {
            "text/plain": [
              "(96, 1, 98)"
            ]
          },
          "metadata": {},
          "execution_count": 36
        }
      ]
    },
    {
      "cell_type": "code",
      "source": [
        "datoPCDExtremo.to_dict('dict').keys()"
      ],
      "metadata": {
        "colab": {
          "base_uri": "https://localhost:8080/"
        },
        "id": "RAF7lkeymzJn",
        "outputId": "4514f8cd-90d7-499c-e143-e063f66182ce"
      },
      "execution_count": 37,
      "outputs": [
        {
          "output_type": "execute_result",
          "data": {
            "text/plain": [
              "dict_keys(['LEVE', 'MODERADA', 'SEVERA'])"
            ]
          },
          "metadata": {},
          "execution_count": 37
        }
      ]
    },
    {
      "cell_type": "code",
      "source": [
        "datoPCDExtremo_dic = datoPCDExtremo.to_dict('list')\n",
        "datoPCDExtremo_dic.values()"
      ],
      "metadata": {
        "colab": {
          "base_uri": "https://localhost:8080/"
        },
        "id": "zk55RtGLuMSh",
        "outputId": "7502783a-c952-4dd4-a6ab-43ffeec68dbd"
      },
      "execution_count": 38,
      "outputs": [
        {
          "output_type": "execute_result",
          "data": {
            "text/plain": [
              "dict_values([[0, 4, 0, 2, 2, 1, 0, 5, 1, 3, 2, 6, 2, 4, 3, 0, 2, 5, 5, 1, 2, 2, 2, 1, 1, 0, 0, 2, 4, 0, 0, 2, 2, 1, 3, 0, 0, 0, 3, 0, 4, 0, 2, 1, 0, 6, 1, 2, 1, 4, 1, 6, 5, 3, 5, 2, 2, 4, 3, 2, 3, 4, 2, 3, 4, 2, 4, 6, 1, 12, 6, 3, 6, 4, 2, 0, 1, 2, 0, 3, 2, 2, 0, 1, 0, 1, 0, 0, 0, 1, 1, 0, 2, 0, 1, 0], [0, 1, 1, 1, 5, 10, 5, 2, 7, 8, 10, 16, 8, 14, 8, 2, 11, 9, 10, 10, 11, 9, 8, 10, 9, 8, 6, 4, 8, 4, 8, 6, 5, 7, 6, 4, 9, 12, 9, 11, 12, 13, 11, 18, 13, 20, 18, 20, 15, 10, 21, 6, 18, 17, 15, 12, 27, 20, 13, 16, 24, 25, 14, 18, 18, 18, 23, 23, 27, 20, 19, 18, 15, 8, 11, 12, 13, 9, 9, 19, 4, 5, 8, 3, 7, 5, 9, 5, 5, 2, 6, 2, 3, 1, 1, 1], [1, 13, 18, 20, 19, 23, 20, 43, 42, 35, 45, 46, 46, 46, 44, 43, 39, 42, 24, 40, 36, 32, 33, 40, 39, 37, 33, 47, 43, 36, 44, 27, 28, 38, 40, 40, 39, 40, 32, 35, 29, 33, 35, 43, 36, 38, 31, 43, 37, 36, 30, 35, 37, 39, 48, 43, 46, 45, 37, 25, 41, 39, 47, 39, 35, 36, 46, 37, 41, 27, 27, 18, 19, 17, 11, 13, 15, 17, 14, 4, 13, 11, 11, 10, 7, 6, 10, 11, 9, 5, 2, 6, 2, 0, 3, 2]])"
            ]
          },
          "metadata": {},
          "execution_count": 38
        }
      ]
    },
    {
      "cell_type": "code",
      "source": [
        "fig, ax = plt.subplots()\n",
        "ax.stackplot(edades, datoPCDExtremo_dic.values(), labels = datoPCDExtremo.to_dict('dict').keys(), alpha=0.8)\n",
        "\n",
        "ax.legend(loc='upper right')\n",
        "ax.set_title('PCD Probreza Extrema y Mínima Instrucción')\n",
        "ax.set_xlabel('Edades (años)')\n",
        "ax.set_ylabel('Cantidad de PCDs (unidades)')\n",
        "\n",
        "plt.show()"
      ],
      "metadata": {
        "colab": {
          "base_uri": "https://localhost:8080/",
          "height": 54
        },
        "id": "nL_h522H4hyT",
        "outputId": "f546d83f-6a17-4659-ff3c-e70dfa1126f2"
      },
      "execution_count": 39,
      "outputs": [
        {
          "output_type": "display_data",
          "data": {
            "text/plain": [
              "<Figure size 432x288 with 1 Axes>"
            ],
            "image/png": "[encoded data removed]"
          },
          "metadata": {
            "needs_background": "light"
          }
        }
      ]
    },
    {
      "cell_type": "markdown",
      "source": [
        "### Análisis Visual: PCDs - POBRE Vs Instrucción BÁSICA"
      ],
      "metadata": {
        "id": "kJmnnOVL01Au"
      }
    },
    {
      "cell_type": "code",
      "source": [
        "condicionFiltro = \"((SISFHO == 'POBRE') & (INSTRUCCION == 'PRIM COMPLETA' | INSTRUCCION == 'SEC INCOMPLETA' | INSTRUCCION == 'SEC COMPLETA'))\"\n",
        "dataPCDMedios = dataAllUbigeo.query(condicionFiltro)\n",
        "#dataPCDMedios.shape\n",
        "\n",
        "dataPCDMedios = pd.crosstab(dataPCDMedios.EDAD, dataPCDMedios.NIVEL_DISCAPACIDAD)\n",
        "#dataPCDMedios.head()\n",
        "\n",
        "edades = dataPCDMedios.index.tolist()\n",
        "#len(edades), edades[0], edades[len(edades)-1]\n",
        "\n",
        "dataPCDMedios.to_dict('dict').keys()\n",
        "\n",
        "dataPCDMedios_dic = dataPCDMedios.to_dict('list')\n",
        "#dataPCDMedios_dic.values()"
      ],
      "metadata": {
        "id": "sGshuDLYv2Vk"
      },
      "execution_count": 40,
      "outputs": []
    },
    {
      "cell_type": "code",
      "source": [
        "fig, ax = plt.subplots()\n",
        "ax.stackplot(edades, dataPCDMedios_dic.values(), labels = dataPCDMedios.to_dict('dict').keys(), alpha=0.8)\n",
        "\n",
        "ax.legend(loc='upper right')\n",
        "ax.set_title('PCD Probres e Instrucción Secundaria')\n",
        "ax.set_xlabel('Edades (años)')\n",
        "ax.set_ylabel('Cantidad de PCDs (unidades)')\n",
        "\n",
        "plt.show()"
      ],
      "metadata": {
        "colab": {
          "base_uri": "https://localhost:8080/",
          "height": 295
        },
        "id": "m9VASJZnwoOr",
        "outputId": "1cd4754a-e21a-4c96-baa5-594801b6e962"
      },
      "execution_count": 41,
      "outputs": [
        {
          "output_type": "display_data",
          "data": {
            "text/plain": [
              "<Figure size 432x288 with 1 Axes>"
            ],
            "image/png": "[encoded data removed]"
          },
          "metadata": {
            "needs_background": "light"
          }
        }
      ]
    },
    {
      "cell_type": "markdown",
      "source": [
        "### Análisis Visual: PCDs - NO POBRE EXTREMO Vs Instrucción SUPERIOR"
      ],
      "metadata": {
        "id": "XNkt6PBL1ArN"
      }
    },
    {
      "cell_type": "code",
      "source": [
        "condicionFiltro = \"((SISFHO == 'NO POBRE') & (INSTRUCCION == 'SUPERIOR'))\"\n",
        "dataPCDAlto = dataAllUbigeo.query(condicionFiltro)\n",
        "#dataPCDAlto.shape\n",
        "\n",
        "dataPCDAlto = pd.crosstab(dataPCDAlto.EDAD, dataPCDAlto.NIVEL_DISCAPACIDAD)\n",
        "#dataPCDAlto.head()\n",
        "\n",
        "edades = dataPCDAlto.index.tolist()\n",
        "#len(edades), edades[0], edades[len(edades)-1]\n",
        "\n",
        "dataPCDAlto.to_dict('dict').keys()\n",
        "\n",
        "dataPCDAlto_dic = dataPCDAlto.to_dict('list')\n",
        "#dataPCDAlto_dic.values()"
      ],
      "metadata": {
        "id": "gG6Vq15sxqXQ"
      },
      "execution_count": 42,
      "outputs": []
    },
    {
      "cell_type": "code",
      "source": [
        "fig, ax = plt.subplots()\n",
        "ax.stackplot(edades, dataPCDAlto_dic.values(), labels = dataPCDAlto.to_dict('dict').keys(), alpha=0.8)\n",
        "\n",
        "ax.legend(loc='upper right')\n",
        "ax.set_title('PCD No Probres e Instrucción Superior')\n",
        "ax.set_xlabel('Edades (años)')\n",
        "ax.set_ylabel('Cantidad de PCDs (unidades)')\n",
        "\n",
        "plt.show()"
      ],
      "metadata": {
        "colab": {
          "base_uri": "https://localhost:8080/",
          "height": 295
        },
        "id": "2wGkddFexqZb",
        "outputId": "55114760-df38-4540-8d0e-745f92a6134b"
      },
      "execution_count": 43,
      "outputs": [
        {
          "output_type": "display_data",
          "data": {
            "text/plain": [
              "<Figure size 432x288 with 1 Axes>"
            ],
            "image/png": "[encoded data removed]"
          },
          "metadata": {
            "needs_background": "light"
          }
        }
      ]
    },
    {
      "cell_type": "markdown",
      "source": [
        "### Análisis Visual: PCDs - POBRE EXTREMO Vs Instrucción SUPERIOR"
      ],
      "metadata": {
        "id": "IMvB3hbM1F5v"
      }
    },
    {
      "cell_type": "code",
      "source": [
        "condicionFiltro = \"((SISFHO == 'POBRE EXTREMO') & (INSTRUCCION == 'SUPERIOR'))\"\n",
        "dataPCDPobreSuperior = dataAllUbigeo.query(condicionFiltro)\n",
        "#dataPCDPobreSuperior.shape\n",
        "\n",
        "dataPCDPobreSuperior = pd.crosstab(dataPCDPobreSuperior.EDAD, dataPCDPobreSuperior.NIVEL_DISCAPACIDAD)\n",
        "#dataPCDPobreSuperior.head()\n",
        "\n",
        "edades = dataPCDPobreSuperior.index.tolist()\n",
        "#len(edades), edades[0], edades[len(edades)-1]\n",
        "\n",
        "dataPCDPobreSuperior.to_dict('dict').keys()\n",
        "\n",
        "dataPCDPobreSuperior_dic = dataPCDPobreSuperior.to_dict('list')\n",
        "#dataPCDPobreSuperior_dic.values()"
      ],
      "metadata": {
        "id": "m7FlqwkzyhCX"
      },
      "execution_count": 44,
      "outputs": []
    },
    {
      "cell_type": "code",
      "source": [
        "fig, ax = plt.subplots()\n",
        "ax.stackplot(edades, dataPCDPobreSuperior_dic.values(), labels = dataPCDPobreSuperior.to_dict('dict').keys(), alpha=0.8)\n",
        "\n",
        "ax.legend(loc='upper right')\n",
        "ax.set_title('PCD POBRE EXTREMO e Instrucción Superior')\n",
        "ax.set_xlabel('Edades (años)')\n",
        "ax.set_ylabel('Cantidad de PCDs (unidades)')\n",
        "\n",
        "plt.show()"
      ],
      "metadata": {
        "colab": {
          "base_uri": "https://localhost:8080/",
          "height": 54
        },
        "id": "XqGaAvv0yhEg",
        "outputId": "b0b3225d-bf5f-4d5f-d5e9-db04adb365d3"
      },
      "execution_count": 45,
      "outputs": [
        {
          "output_type": "display_data",
          "data": {
            "text/plain": [
              "<Figure size 432x288 with 1 Axes>"
            ],
            "image/png": "[encoded data removed]"
          },
          "metadata": {
            "needs_background": "light"
          }
        }
      ]
    }
  ]
}